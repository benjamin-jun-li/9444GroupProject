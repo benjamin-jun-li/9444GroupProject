{
  "cells": [
    {
      "cell_type": "markdown",
      "metadata": {
        "id": "2HriLhaU8nnT"
      },
      "source": [
        "# COMP9444 Project: Sentiment Analysis"
      ]
    },
    {
      "cell_type": "markdown",
      "metadata": {
        "id": "NL6NS5dkkxFY"
      },
      "source": [
        "## Introduction\n",
        "\n",
        "Sentiment analysis, a fundamental task in Natural Language Processing (NLP), involves the classification of text into positive, negative, or neutral sentiments. The ability to accurately gauge sentiment from textual data has gained immense importance in numerous domains, ranging from customer feedback analysis to stock market prediction.\n",
        "\n",
        "## Motivation\n",
        "\n",
        "The motivation behind this project stems from the need to understand the effectiveness of various methods in different contexts. As sentiment analysis plays a vital role across different industries, it is crucial to explore and compare diverse approaches to identify the most suitable techniques for specific applications.\n",
        "\n",
        "Traditional machine learning methods like SVM have been widely used for sentiment analysis, while deep learning models such as BiLSTM and CNN-LSTM have demonstrated remarkable success in various NLP tasks. However, their performance in sentiment analysis tasks and their adaptability to different datasets are yet to be thoroughly examined and compared.\n",
        "\n",
        "## Problem Statement\n",
        "\n",
        "The main problem addressed in this project is to determine the most effective sentiment analysis approach between SVM, BiLSTM, and CNN-LSTM for the given binary and triple class sentiment datasets. By conducting a detailed evaluation, we seek to identify which method yields superior results in accurately classifying sentiments expressed in threads app review and twitter posts related to the US airline industry.\n",
        "\n",
        "The project's findings will provide valuable insights into the performance and suitability of these techniques in specific sentiment analysis scenarios. These insights can guide future research in choosing appropriate sentiment analysis methods based on dataset characteristics and application requirements.\n",
        "\n",
        "## Data Sources and Tasks\n",
        "\n",
        "Specifically, we focus on evaluating Support Vector Machine (SVM) as a representative machine learning method, and Bidirectional Long Short-Term Memory (BiLSTM) and Convolutional Neural Network with Long Short-Term Memory (CNN-LSTM) as representative deep learning methods. The comparison is carried out on two distinct datasets: a binary classification task using [threads app reviews](https://www.kaggle.com/datasets/saloni1712/threads-an-instagram-app-reviews) and a tri-class classification task using [US airline sentiment data](https://www.kaggle.com/datasets/crowdflower/twitter-airline-sentiment).\n",
        "\n",
        "The Threads app reviews dataset presents binary classification problem. The goal is to predict whether a particular review expresses satisfaction or dissatisfaction with the Threads app, a popular social messaging platform. By accurately analyzing user sentiments, the Threads app team can make data-driven decisions to enhance user experiences, address concerns, and optimize the app's functionalities to meet the needs of its users effectively.\n",
        "\n",
        "The US airline sentiment dataset offers a more complex sentiment analysis task, encompassing three sentiment classes: positive, negative and neutral. Sentiment analysis on this dataset can be essential for US airlines to monitor customer satisfaction, identify areas of improvement in their services, and respond promptly to customer feedback."
      ]
    },
    {
      "cell_type": "markdown",
      "metadata": {
        "id": "pH6IAF-rFnV-"
      },
      "source": [
        "## Import Dependencies and Configure GPU Settings"
      ]
    },
    {
      "cell_type": "code",
      "execution_count": null,
      "metadata": {
        "ExecuteTime": {
          "end_time": "2023-08-02T13:07:39.480885900Z",
          "start_time": "2023-08-02T13:07:36.679658500Z"
        },
        "colab": {
          "base_uri": "https://localhost:8080/"
        },
        "id": "mNAcA0Lq8pbr",
        "outputId": "7e939871-6557-4f66-dc4b-2821b40437b4"
      },
      "outputs": [
        {
          "name": "stderr",
          "output_type": "stream",
          "text": [
            "2023-08-03 14:05:33.985436: I tensorflow/core/util/port.cc:110] oneDNN custom operations are on. You may see slightly different numerical results due to floating-point round-off errors from different computation orders. To turn them off, set the environment variable `TF_ENABLE_ONEDNN_OPTS=0`.\n",
            "2023-08-03 14:05:34.019969: I tensorflow/core/platform/cpu_feature_guard.cc:182] This TensorFlow binary is optimized to use available CPU instructions in performance-critical operations.\n",
            "To enable the following instructions: AVX2 AVX512F AVX512_VNNI FMA, in other operations, rebuild TensorFlow with the appropriate compiler flags.\n",
            "2023-08-03 14:05:34.631058: W tensorflow/compiler/tf2tensorrt/utils/py_utils.cc:38] TF-TRT Warning: Could not find TensorRT\n"
          ]
        }
      ],
      "source": [
        "import numpy as np\n",
        "import pandas as pd\n",
        "import torch\n",
        "import re\n",
        "import matplotlib.pyplot as plt\n",
        "import seaborn as sns\n",
        "from sklearn.utils import resample\n",
        "from sklearn.metrics import accuracy_score\n",
        "from sklearn.model_selection import KFold\n",
        "from sklearn.model_selection import train_test_split\n",
        "from sklearn.svm import LinearSVC\n",
        "from sklearn.feature_extraction.text import TfidfVectorizer\n",
        "from sklearn.metrics import confusion_matrix, classification_report\n",
        "from keras.preprocessing.text import Tokenizer\n",
        "from keras.utils import pad_sequences\n",
        "from keras.models import Sequential\n",
        "from keras.layers import Dense, Embedding, LSTM, SpatialDropout1D\n",
        "from keras.regularizers import l2\n",
        "from keras.callbacks import EarlyStopping, ModelCheckpoint\n",
        "from keras.layers import Bidirectional\n",
        "from keras.layers import Conv1D, MaxPooling1D\n",
        "from gensim.models import Word2Vec"
      ]
    },
    {
      "cell_type": "code",
      "execution_count": null,
      "metadata": {
        "ExecuteTime": {
          "end_time": "2023-08-02T09:27:24.980450200Z",
          "start_time": "2023-08-02T09:27:24.550388Z"
        },
        "colab": {
          "base_uri": "https://localhost:8080/"
        },
        "id": "r_kkBPnj8w_R",
        "outputId": "18a518f6-ecea-4d85-d7b4-e89cf24e1e5d"
      },
      "outputs": [
        {
          "name": "stdout",
          "output_type": "stream",
          "text": [
            "cuda\n"
          ]
        }
      ],
      "source": [
        "device = torch.device('cuda') if torch.cuda.is_available() else torch.device('cpu')\n",
        "print(device)"
      ]
    },
    {
      "cell_type": "markdown",
      "metadata": {
        "id": "48sVPd0KeadC"
      },
      "source": [
        "Check if a CUDA device (i.e., GPU) exists that can be used, and if it does then the device (device) is set to a CUDA device, and if it doesn't then the device is set to a CPU.This is mainly because the PyTorch library can be run on a CUDA device and computations running on a CUDA device are usually much faster than running on a CPU, especially when working with large-scale data and models.\n",
        "\n",
        "Here torch.device() is the function used to move the tensor to the device, while torch.cuda.is_available() checks if there is an available CUDA device. When a CUDA device (typically a GPU) exists, the device is set to 'cuda', otherwise 'cpu'."
      ]
    },
    {
      "cell_type": "markdown",
      "metadata": {
        "id": "zsa5PTV-CXRE"
      },
      "source": [
        "## Exploratory Analysis and Preprocessing\n",
        "\n"
      ]
    },
    {
      "cell_type": "code",
      "execution_count": null,
      "metadata": {
        "ExecuteTime": {
          "end_time": "2023-08-02T13:07:43.763923Z",
          "start_time": "2023-08-02T13:07:43.753411700Z"
        },
        "id": "wKVzF5yM7WYH"
      },
      "outputs": [],
      "source": [
        "def clean_train_data(x):\n",
        "    text = str(x)\n",
        "    text = text.lower()\n",
        "    text = re.sub(r'\\s+', ' ', text)\n",
        "    text = re.sub('\\[.*?\\]', '', text)\n",
        "    text = re.sub(r'[^\\w\\s]','',text)\n",
        "    text = re.sub('\\w*\\d\\w*', '', text)\n",
        "    text = re.sub('\\n', '', text)\n",
        "    return text"
      ]
    },
    {
      "cell_type": "markdown",
      "metadata": {
        "id": "1SozeFZle0b9"
      },
      "source": [
        "This function is appied to clean and normalize the text data in the training dataset, ensuring that the subsequent sentiment analysis model can better comprehend and learn from the text. Specific steps involved in the preprocessing are as follows:\n",
        "\n",
        "Lowercasing (`text.lower()`): By converting all text to lowercase, discrepancies due to varying letter cases are removed. This step ensures that models treat words with different cases as the same, avoiding redundancy and improving the overall understanding of the words' meanings.\n",
        "\n",
        "Removing Extra Spaces (`re.sub(r'\\s+', ' ', text)`): Multiple consecutive spaces are replaced with a single space. This process compacts the text, making the format consistent for subsequent analysis.\n",
        "\n",
        "Removing Square Brackets and Contents (`re.sub('\\[. *? \\]', '', text)`): Square brackets and contents within are removed using a regex substitution. These brackets might contain non-essential or noisy information, and eliminating them helps to focus on the core content of the text.\n",
        "\n",
        "Removing Punctuation (`re.sub(r'[^\\w\\s]', '', text)`): All punctuation marks are removed, while retaining words and spaces using a regex. Punctuation often does not contribute significantly to sentiment analysis and can be safely disregarded.\n",
        "\n",
        "Removing Words with Numbers (`re.sub('\\w*\\d\\w*', '', text)`): Words containing numbers are removed from the text. Numbers in many natural language processing tasks may not provide relevant information and can be omitted to reduce unnecessary complexity in the model's input data.\n",
        "\n",
        "Removing Line Breaks (`re.sub('\\n', '', text)`): Line breaks, which have no inherent meaning in the text, are removed. This action ensures that the text is seamlessly processed and avoids any misinterpretation due to the presence of line breaks.\n",
        "\n",
        "Overall, this preprocessing function plays a vital role in enhancing the quality and consistency of the text data, as it lays the foundation for effective feature extraction and enables the model to better understand the sentiment."
      ]
    },
    {
      "cell_type": "markdown",
      "metadata": {
        "id": "J-PuIal1K45J"
      },
      "source": [
        " ### Threads App Review Dataset (binary)"
      ]
    },
    {
      "cell_type": "code",
      "execution_count": null,
      "metadata": {
        "ExecuteTime": {
          "end_time": "2023-08-02T11:32:22.620729900Z",
          "start_time": "2023-08-02T11:32:22.530462700Z"
        },
        "id": "uS3_u3sXCaXU"
      },
      "outputs": [],
      "source": [
        "data = pd.read_csv(\"../data/threads1.csv\")\n",
        "data.shape\n",
        "\n",
        "data['review'] = data.review.apply(lambda x : clean_train_data(x))\n",
        "data = data[data['sentiment'] != 'neutral']"
      ]
    },
    {
      "cell_type": "markdown",
      "metadata": {
        "id": "b-5TsoDPe9NA"
      },
      "source": [
        "The code filters out all rows from the data frame where the \"Sentiment\" value is \"neutral.\" This step is taken to focus solely on the positive and negative sentiments, disregarding neutral sentiments, which are not relevant at this stage."
      ]
    },
    {
      "cell_type": "markdown",
      "metadata": {
        "id": "jBG8XMBsRN_j"
      },
      "source": [
        "### US Airline Tweets Dataset (triple)"
      ]
    },
    {
      "cell_type": "code",
      "execution_count": null,
      "metadata": {
        "ExecuteTime": {
          "end_time": "2023-08-02T13:07:54.933047800Z",
          "start_time": "2023-08-02T13:07:54.886272600Z"
        },
        "id": "9HthcRQYRZko"
      },
      "outputs": [],
      "source": [
        "data = pd.read_csv(\"../data/Tweets.csv\")\n",
        "data.shape\n",
        "\n",
        "data = data[data['airline_sentiment_confidence'] > 0.5]\n",
        "data.shape\n",
        "\n",
        "class_count = data['airline_sentiment'].value_counts()\n",
        "class0_count = class_count[0]\n",
        "class1_count = class_count[1]\n",
        "class2_count = class_count[2]\n",
        "\n",
        "max_count = max(class0_count, class1_count, class2_count)\n",
        "diff_class1 = max_count - class1_count\n",
        "diff_class2 = max_count - class2_count\n",
        "\n",
        "class1_samples = resample(data[data['airline_sentiment'] == 'neutral'],\n",
        "                n_samples=diff_class1, replace=True, random_state=42)\n",
        "\n",
        "class2_samples = resample(data[data['airline_sentiment'] == 'positive'],\n",
        "                n_samples=diff_class2, replace=True, random_state=42)\n",
        "\n",
        "data = pd.concat([data,class1_samples, class2_samples])"
      ]
    },
    {
      "cell_type": "markdown",
      "metadata": {
        "id": "XZS8V0NMfaB_"
      },
      "source": [
        "The code applies selective filtering to retain only high-confidence sentiment tweets, as determined by a confidence level greater than 0.5 in the 'airline_sentiment_confidence' column. It then performs class balancing to ensure equal representation of sentiment categories (positive, negative, and neutral) by oversampling categories with fewer samples.\n",
        "\n",
        "To achieve this, the code first calculates the number of samples for each sentiment category and identifies the maximum sample count among them. Then it determines the differences between the maximum count and the counts of 'neutral' and 'positive' categories, saving these calculations as 'diff_class1' and 'diff_class2', respectively.\n",
        "\n",
        "Using the 'resample' function, the code generates additional samples for 'neutral' and 'positive' categories through repeated sampling, bringing their sample counts to match the maximum count. This equalizes the number of samples across all categories, mitigating bias towards categories with higher samples during model training.\n",
        "\n",
        "Finally, the code merges the original data with the added samples to create a new balanced DataFrame using the `pd.concat` function.\n",
        "\n",
        "Overall, the code ensures that the sentiment analysis model is trained on a balanced dataset, addressing class imbalance issues. The technique of oversampling allows the model to learn effectively from all sentiment categories, preventing biases towards categories with more samples."
      ]
    },
    {
      "cell_type": "markdown",
      "metadata": {
        "id": "1bWFEzvDYoFO"
      },
      "source": [
        "## Machine Learning Methods\n"
      ]
    },
    {
      "cell_type": "markdown",
      "metadata": {
        "id": "4N9u_YRAcB9t"
      },
      "source": [
        "### Binary Classification"
      ]
    },
    {
      "cell_type": "markdown",
      "metadata": {
        "id": "XFDt8Yqod7Jg"
      },
      "source": [
        "#### SVM"
      ]
    },
    {
      "cell_type": "code",
      "execution_count": null,
      "metadata": {
        "ExecuteTime": {
          "end_time": "2023-08-02T10:35:46.781243Z",
          "start_time": "2023-08-02T10:35:46.719696100Z"
        },
        "id": "OYlBpBfNpVw5",
        "outputId": "360b701a-72fd-4ef1-d576-d070acd8dda6"
      },
      "outputs": [
        {
          "name": "stdout",
          "output_type": "stream",
          "text": [
            "Accuracy: 0.8491666666666666\n",
            "Confusion Matrix:\n",
            " [[539  94]\n",
            " [ 87 480]]\n",
            "Classification Report:\n",
            "               precision    recall  f1-score   support\n",
            "\n",
            "    negative       0.86      0.85      0.86       633\n",
            "    positive       0.84      0.85      0.84       567\n",
            "\n",
            "    accuracy                           0.85      1200\n",
            "   macro avg       0.85      0.85      0.85      1200\n",
            "weighted avg       0.85      0.85      0.85      1200\n",
            "\n",
            "What I wanna say is that this app is really better than twitter!\n",
            "Predicted Sentiment positive: positive\n",
            "Oh no, are you sure about the UI design?\n",
            "Predicted Sentiment negative: negative\n"
          ]
        }
      ],
      "source": [
        "# TF-IDF\n",
        "tfidf = TfidfVectorizer(sublinear_tf=True, encoding='utf-8', decode_error='ignore', stop_words='english', max_features=10000)\n",
        "X = tfidf.fit_transform(data['review'])\n",
        "y = data['sentiment']\n",
        "\n",
        "\n",
        "X_train, X_test, y_train, y_test = train_test_split(X, y, test_size=0.2, random_state=42)\n",
        "\n",
        "\n",
        "svm = LinearSVC(random_state=42)\n",
        "\n",
        "\n",
        "svm.fit(X_train, y_train)\n",
        "\n",
        "\n",
        "y_pred = svm.predict(X_test)\n",
        "\n",
        "\n",
        "print('Accuracy:', accuracy_score(y_test, y_pred))\n",
        "\n",
        "\n",
        "print('Confusion Matrix:\\n', confusion_matrix(y_test, y_pred))\n",
        "\n",
        "\n",
        "print('Classification Report:\\n', classification_report(y_test, y_pred))\n",
        "\n",
        "def clean_input_data(x):\n",
        "    text = x.lower()\n",
        "    text = re.sub(r'\\s+', ' ', text)\n",
        "    text = re.sub('\\[.*?\\]', '', text) # remove square brackets\n",
        "    text = re.sub(r'[^\\w\\s]','',text) # remove punctuation\n",
        "    text = re.sub('\\w*\\d\\w*', '', text) # remove words containing numbers\n",
        "    text = re.sub('\\n', '', text)\n",
        "    return text\n",
        "\n",
        "def predict_sentiment(sentence, tfidf_vectorizer, svm_model):\n",
        "    cleaned_sentence = clean_input_data(sentence)\n",
        "    vectorized_sentence = tfidf_vectorizer.transform([cleaned_sentence])\n",
        "    prediction = svm_model.predict(vectorized_sentence)\n",
        "    return prediction[0]\n",
        "\n",
        "\n",
        "input_sentence_positive = \"What I wanna say is that this app is really better than twitter!\"\n",
        "predicted_sentiment_positive = predict_sentiment(input_sentence_positive, tfidf, svm)\n",
        "\n",
        "\n",
        "input_sentence_negative = \"Oh no, are you sure about the UI design?\"\n",
        "\n",
        "predicted_sentiment_negative = predict_sentiment(input_sentence_negative, tfidf, svm)\n",
        "\n",
        "print(input_sentence_positive)\n",
        "print(\"Predicted Sentiment positive:\", predicted_sentiment_positive)\n",
        "print(input_sentence_negative)\n",
        "print(\"Predicted Sentiment negative:\", predicted_sentiment_negative)"
      ]
    },
    {
      "cell_type": "markdown",
      "metadata": {
        "id": "Qi1LuUUCqRuN"
      },
      "source": [
        "The model is trained using LinearSVC (Linear Support Vector Classifier) by utilizing the 'fit' function for training and the 'predict' function for generating predictions on the test set.\n",
        "\n",
        "The SVM model's performance yielded promising results, achieving an overall accuracy of approximately 85%. The confusion matrix reveals that the model correctly predicted 539 negative sentiments and 480 positive sentiments, while misclassifying 94 negative sentiments as positive and 87 positive sentiments as negative.\n",
        "\n",
        "Overall, we have implemented a fairly accurate sentiment classifier using TF-IDF and SVM, which is able to identify both positive and negative sentiment of comments better.\n"
      ]
    },
    {
      "cell_type": "markdown",
      "metadata": {
        "id": "82uYE6PeddiC"
      },
      "source": [
        "### Tri-class Classification"
      ]
    },
    {
      "cell_type": "markdown",
      "metadata": {
        "id": "qUmo1-NkjBRm"
      },
      "source": [
        "#### SVM"
      ]
    },
    {
      "cell_type": "markdown",
      "metadata": {
        "id": "oQB7A1vOUodX"
      },
      "source": [
        "SVM is a supervised machine learning algorithm that helps in classification or regression problems. It aims to find an optimal boundary between the possible outputs."
      ]
    },
    {
      "cell_type": "code",
      "execution_count": null,
      "metadata": {
        "ExecuteTime": {
          "end_time": "2023-08-02T09:55:45.667445800Z",
          "start_time": "2023-08-02T09:55:45.095900Z"
        },
        "id": "mQXu87bgkeHn",
        "outputId": "2cfe8a9e-9f86-4ba1-dd3e-56a198a796ec"
      },
      "outputs": [
        {
          "name": "stdout",
          "output_type": "stream",
          "text": [
            "Accuracy: 0.7865324540090246\n",
            "Confusion Matrix:\n",
            " [[1683  154   29]\n",
            " [ 222  284   46]\n",
            " [  98   66  299]]\n",
            "Classification Report:\n",
            "               precision    recall  f1-score   support\n",
            "\n",
            "    negative       0.84      0.90      0.87      1866\n",
            "     neutral       0.56      0.51      0.54       552\n",
            "    positive       0.80      0.65      0.71       463\n",
            "\n",
            "    accuracy                           0.79      2881\n",
            "   macro avg       0.73      0.69      0.71      2881\n",
            "weighted avg       0.78      0.79      0.78      2881\n",
            "\n"
          ]
        }
      ],
      "source": [
        "# Utilizing TF-IDF to vectorize text data\n",
        "tfidf = TfidfVectorizer(sublinear_tf=True, encoding='utf-8', decode_error='ignore', stop_words='english', max_features=10000)\n",
        "X = tfidf.fit_transform(data['text'])\n",
        "y = data['airline_sentiment']\n",
        "\n",
        "# Divide into train and test\n",
        "X_train, X_test, y_train, y_test = train_test_split(X, y, test_size=0.2, random_state=42)\n",
        "\n",
        "# Initialize SVM\n",
        "svm = LinearSVC(random_state=42)\n",
        "\n",
        "# Train model\n",
        "svm.fit(X_train, y_train)\n",
        "\n",
        "# Predict\n",
        "y_pred = svm.predict(X_test)\n",
        "\n",
        "# Get score, matrix and report\n",
        "print('Accuracy:', accuracy_score(y_test, y_pred))\n",
        "print('Confusion Matrix:\\n', confusion_matrix(y_test, y_pred))\n",
        "print('Classification Report:\\n', classification_report(y_test, y_pred))"
      ]
    },
    {
      "cell_type": "markdown",
      "metadata": {
        "id": "Vt1qFpfTtVTM"
      },
      "source": [
        "This model is the same as the SVM model for binary dataset, but unlike the previous case, this time there are three classification labels: negative, neutral and positive.\n",
        "\n",
        "The results indicate an overall accuracy of 78% for the model, whose performance is weaker than the previous one.\n",
        "\n",
        "It could be observed that this model performs best in predicting negative comments, with higher precision, recall, and F1 scores; while it performs much poorer in predicting neutral comments, which may be due to the strategy of SVM itself and the dataset."
      ]
    },
    {
      "cell_type": "markdown",
      "metadata": {
        "id": "qEAMQMF7lpb7"
      },
      "source": [
        "## Deep Learning Methods"
      ]
    },
    {
      "cell_type": "markdown",
      "metadata": {
        "id": "b3A-obhujnrB"
      },
      "source": [
        "### Binary Classification"
      ]
    },
    {
      "cell_type": "markdown",
      "metadata": {
        "id": "Z8LgWCNWnmjq"
      },
      "source": [
        "#### BiLSTM (Vanilla Version)"
      ]
    },
    {
      "cell_type": "markdown",
      "source": [
        "Bidirectional LSTM is a variant of the Long Short-Term Memory (LSTM) architecture in deep learning. Unlike the traditional unidirectional LSTM, which processes input sequentially in only one direction (forward or backward in time), a bidirectional LSTM processes input in both directions simultaneously. This means it can capture information from both past and future contexts, allowing the model to better understand the sequential patterns and dependencies in the input data. By combining information from both directions, bidirectional LSTM enhances the model's ability to extract more meaningful features and improve its performance in tasks involving sequential data, such as natural language processing and time series analysis."
      ],
      "metadata": {
        "id": "NHZiMabhWDmu"
      }
    },
    {
      "cell_type": "code",
      "execution_count": null,
      "metadata": {
        "ExecuteTime": {
          "end_time": "2023-08-02T11:01:20.608585900Z",
          "start_time": "2023-08-02T10:55:25.348782500Z"
        },
        "id": "82p-dQnLnmjq",
        "outputId": "54b2bbef-ced1-4be3-8b69-17e94da223a2"
      },
      "outputs": [
        {
          "name": "stdout",
          "output_type": "stream",
          "text": [
            "Epoch 1/50\n",
            "150/150 - 23s - loss: 0.5636 - accuracy: 0.7185 - val_loss: 0.4437 - val_accuracy: 0.8100 - 23s/epoch - 155ms/step\n",
            "Epoch 2/50\n"
          ]
        },
        {
          "name": "stderr",
          "output_type": "stream",
          "text": [
            "/home/benjamin/.local/lib/python3.10/site-packages/keras/src/engine/training.py:3000: UserWarning: You are saving your model as an HDF5 file via `model.save()`. This file format is considered legacy. We recommend using instead the native Keras format, e.g. `model.save('my_model.keras')`.\n",
            "  saving_api.save_model(\n"
          ]
        },
        {
          "name": "stdout",
          "output_type": "stream",
          "text": [
            "150/150 - 22s - loss: 0.3349 - accuracy: 0.8648 - val_loss: 0.3390 - val_accuracy: 0.8683 - 22s/epoch - 146ms/step\n",
            "Epoch 3/50\n",
            "150/150 - 22s - loss: 0.2924 - accuracy: 0.8827 - val_loss: 0.3907 - val_accuracy: 0.8367 - 22s/epoch - 148ms/step\n",
            "Epoch 4/50\n",
            "150/150 - 22s - loss: 0.2365 - accuracy: 0.9117 - val_loss: 0.3496 - val_accuracy: 0.8758 - 22s/epoch - 146ms/step\n",
            "Epoch 5/50\n",
            "150/150 - 21s - loss: 0.2030 - accuracy: 0.9231 - val_loss: 0.3665 - val_accuracy: 0.8592 - 21s/epoch - 139ms/step\n",
            "38/38 - 1s - loss: 0.3665 - accuracy: 0.8592 - 981ms/epoch - 26ms/step\n",
            "38/38 [==============================] - 2s 30ms/step\n",
            "Average score: 0.3665124177932739\n",
            "Average accuracy: 0.85916668176651\n",
            "Confusion Matrix (Fold 1):\n",
            "[[548  85]\n",
            " [ 84 483]]\n",
            "\n",
            "Classification Report (Fold 1):\n",
            "              precision    recall  f1-score   support\n",
            "\n",
            "    negative       0.87      0.87      0.87       633\n",
            "    positive       0.85      0.85      0.85       567\n",
            "\n",
            "    accuracy                           0.86      1200\n",
            "   macro avg       0.86      0.86      0.86      1200\n",
            "weighted avg       0.86      0.86      0.86      1200\n",
            "\n",
            "\n",
            "Overall Confusion Matrix:\n",
            " [[548  85]\n",
            " [ 84 483]]\n",
            "Overall Classification Report:\n",
            "               precision    recall  f1-score   support\n",
            "\n",
            "    negative       0.87      0.87      0.87       633\n",
            "    positive       0.85      0.85      0.85       567\n",
            "\n",
            "    accuracy                           0.86      1200\n",
            "   macro avg       0.86      0.86      0.86      1200\n",
            "weighted avg       0.86      0.86      0.86      1200\n",
            "\n"
          ]
        },
        {
          "data": {
            "image/png": "[encoded data removed]",
            "text/plain": [
              "<Figure size 800x600 with 2 Axes>"
            ]
          },
          "metadata": {},
          "output_type": "display_data"
        },
        {
          "name": "stdout",
          "output_type": "stream",
          "text": [
            "This is a good app! Love it!\n",
            "1/1 [==============================] - 0s 40ms/step\n",
            "The sentiment of the text is positive\n",
            "Honestly saying, this app is not as I image it should be.\n",
            "1/1 [==============================] - 0s 43ms/step\n",
            "The sentiment of the text is negative\n"
          ]
        }
      ],
      "source": [
        "max_features = 2000\n",
        "token = Tokenizer(num_words=max_features, split = ' ')\n",
        "token.fit_on_texts(data['review'].values)\n",
        "\n",
        "X = token.texts_to_sequences(data['review'].values)\n",
        "X = pad_sequences(X)\n",
        "Y = pd.get_dummies(data['sentiment']).values\n",
        "\n",
        "embed_dim = 128\n",
        "lstm_out = 196\n",
        "batch_size = 32\n",
        "\n",
        "\n",
        "# Store the scores\n",
        "scores = []\n",
        "accuracies = []\n",
        "conf_matrices = []  # Store confusion matrices for each fold\n",
        "\n",
        "\n",
        "X_train, X_test, y_train, y_test = train_test_split(X,Y, test_size=0.2, random_state=42)\n",
        "\n",
        "model = Sequential()\n",
        "model.add(Embedding(max_features, embed_dim, input_length=X.shape[1]))\n",
        "model.add(SpatialDropout1D(0.4))\n",
        "model.add(Bidirectional(LSTM(lstm_out, dropout=0.2, recurrent_dropout=0.2)))\n",
        "model.add(Dense(2, activation='softmax'))\n",
        "model.compile(loss='binary_crossentropy', optimizer='adam', metrics=['accuracy'])\n",
        "\n",
        "# Early stopping callback\n",
        "early_stopping = EarlyStopping(monitor='val_loss', patience=3)\n",
        "\n",
        "# Model checkpoint callback\n",
        "model_checkpoint = ModelCheckpoint('best_model.h5', monitor='val_loss', save_best_only=True)\n",
        "\n",
        "\n",
        "# Train the model\n",
        "history = model.fit(X_train, y_train, epochs=50, batch_size=batch_size, verbose=2,\n",
        "                    validation_data=(X_test, y_test),\n",
        "                    callbacks=[early_stopping, model_checkpoint])\n",
        "\n",
        "# Evaluate the model\n",
        "score, acc = model.evaluate(X_test, y_test, batch_size=batch_size, verbose=2)\n",
        "\n",
        "# Store the score and accuracy\n",
        "scores.append(score)\n",
        "accuracies.append(acc)\n",
        "\n",
        "# Predict the test data and get the confusion matrix\n",
        "y_pred = model.predict(X_test)\n",
        "y_pred_classes = np.argmax(y_pred, axis=1)\n",
        "y_true_classes = np.argmax(y_test, axis=1)\n",
        "conf_matrix = confusion_matrix(y_true_classes, y_pred_classes)\n",
        "conf_matrices.append(conf_matrix)\n",
        "\n",
        "# Print the average score and accuracy\n",
        "print('Average score:', np.mean(scores))\n",
        "print('Average accuracy:', np.mean(accuracies))\n",
        "\n",
        "# Print confusion matrices and classification reports for each fold\n",
        "for i, conf_matrix in enumerate(conf_matrices):\n",
        "    print(f\"Confusion Matrix (Fold {i+1}):\\n{conf_matrix}\\n\")\n",
        "    class_report = classification_report(y_true_classes, y_pred_classes, target_names=['negative', 'positive'])\n",
        "    print(f\"Classification Report (Fold {i+1}):\\n{class_report}\\n\")\n",
        "\n",
        "# Calculate and print overall confusion matrix and classification report\n",
        "overall_conf_matrix = np.sum(conf_matrices, axis=0)\n",
        "print(\"Overall Confusion Matrix:\\n\", overall_conf_matrix)\n",
        "overall_class_report = classification_report(y_true_classes, y_pred_classes, target_names=['negative', 'positive'])\n",
        "print(\"Overall Classification Report:\\n\", overall_class_report)\n",
        "\n",
        "# Plot the overall confusion matrix\n",
        "plt.figure(figsize=(8, 6))\n",
        "sns.heatmap(overall_conf_matrix, annot=True, fmt='d', cmap='Blues', xticklabels=['negative', 'positive'], yticklabels=['negative', 'positive'])\n",
        "plt.xlabel('Predicted Label')\n",
        "plt.ylabel('True Label')\n",
        "plt.title('Overall Confusion Matrix')\n",
        "plt.show()\n",
        "\n",
        "def predict_sentiment(text):\n",
        "    # Clean the text\n",
        "    text = clean_train_data(text)\n",
        "\n",
        "    # Tokenize the text\n",
        "    sequences = token.texts_to_sequences([text])\n",
        "    sequences = pad_sequences(sequences, maxlen=X.shape[1])\n",
        "\n",
        "    # Predict the sentiment\n",
        "    prediction = model.predict(sequences)\n",
        "\n",
        "    # Convert the prediction into a readable form\n",
        "    sentiment = np.argmax(prediction)\n",
        "    sentiment_dict = {0: 'negative', 1: 'positive'}\n",
        "\n",
        "    print('The sentiment of the text is', sentiment_dict[sentiment])\n",
        "\n",
        "\n",
        "# Now use this function to predict the sentiment of a new text\n",
        "positive_text = \"This is a good app! Love it!\"\n",
        "negative_text = \"Honestly saying, this app is not as I image it should be.\"\n",
        "print(positive_text)\n",
        "predict_sentiment(positive_text)\n",
        "print(negative_text)\n",
        "predict_sentiment(negative_text)"
      ]
    },
    {
      "cell_type": "markdown",
      "metadata": {
        "id": "4G2EBrZldl7z"
      },
      "source": [
        "This LSTM-based sentiment analysis model was trained on cleaned and preprocessed data. Keras' Tokenizer and pad_sequences methods were used for data encoding. The deep learning model includes an embedding layer, a bidirectional LSTM layer, and a fully connected layer. The model uses the adam optimizer with binary cross-entropy loss. During training, Early Stopping and Model Checkpoint callbacks were applied for better performance.\n",
        "\n",
        "#### Technique Explanation\n",
        "\n",
        "Tokenizer and pad_sequences: Keras' Tokenizer is used to convert the text into sequences of integers, representing the tokens (words) in the text data. pad_sequences method is then applied to ensure all sequences have the same length, padding or truncating them as needed.\n",
        "\n",
        "Embedding Layer: The embedding layer is used to convert the integer-encoded tokens into dense vector representations. These dense vectors capture semantic relationships between words, providing the model with a more meaningful input representation.\n",
        "\n",
        "Bidirectional LSTM Layer: The bidirectional LSTM layer enhances the model's ability to understand contextual information. By processing the text in both forward and backward directions, this layer captures patterns from both past and future information, resulting in better feature extraction.\n",
        "\n",
        "Fully Connected Layer: The fully connected layer (also known as the dense layer) is used for the final classification task. It takes the extracted features from the LSTM layer and maps them to the desired output classes(sentiments).\n",
        "\n",
        "adam Optimizer and Binary Cross-Entropy Loss: The adam optimizer is an adaptive optimization algorithm used to update the model's weights during training. Binary cross-entropy loss is a suitable loss function for binary classification tasks like sentiment analysis, measuring the difference between predicted and true class probabilities.\n",
        "\n",
        "Early Stopping and Model Checkpoint Callbacks: Early Stopping callback monitors the model's performance during training and stops the training process when the model's performance on the validation set stops improving, helping to prevent overfitting. Model Checkpoint callback saves the model's best weights during training, allowing the best-performing model to be used for evaluation.\n",
        "\n",
        "#### Model performance\n",
        "\n",
        "In this output, we see the results of a model that was trained through 50 training cycles (or epochs), but was actually stopped early after only 5 epochs because from the 4th epoch onwards, the loss in the validation set started to increase, which is a sign of overfitting.\n",
        "\n",
        "Result: The model's accuracy was 92% on the training set and 86% on the validation set. As the epoch increases, the accuracy increases on both the training and validation sets, but from the 4th epoch onwards, the loss on the validation set starts to increase, which indicates that the model is starting to overfit.\n",
        "\n",
        "Performance Metrics: The output shows a variety of performance metrics including precision, recall, and F1 score. Precision is the proportion of samples predicted by the model to be in the positive class (in this case, the 'positive' class) that are actually in the positive class. Recall is the proportion of samples that are actually positive predicted to be positive by the model.The F1 score is the harmonic mean of precision and recall, and it balances both as well as possible.\n",
        "\n",
        "For the 'negative' class, the F1 score is 0.87, which means that the model predicts the 'negative' class quite well. For the 'positive' class, the F1 score is 0.85, which is also acceptable.\n",
        "\n",
        "Confusion Matrix: The confusion matrix shows the predictions of the model in each category. Of all the samples predicted by the model, it falsely classified 169 pieces of data, with 85 negative ones and 84 postive ones. This indicates that the model also has some underreporting (false negatives).\n"
      ]
    },
    {
      "cell_type": "markdown",
      "metadata": {
        "id": "JdmceaR_37Vs"
      },
      "source": [
        "#### BiLSTM (cross validation)"
      ]
    },
    {
      "cell_type": "code",
      "execution_count": null,
      "metadata": {
        "ExecuteTime": {
          "end_time": "2023-08-02T10:16:58.710503500Z",
          "start_time": "2023-08-02T10:11:08.847076800Z"
        },
        "id": "ShgEE4Z037Vy",
        "outputId": "e31c8edc-0b49-4892-8312-77ce544be37f"
      },
      "outputs": [
        {
          "name": "stdout",
          "output_type": "stream",
          "text": [
            "Epoch 1/50\n",
            "150/150 - 22s - loss: 0.5437 - accuracy: 0.7208 - val_loss: 0.3813 - val_accuracy: 0.8492 - 22s/epoch - 148ms/step\n",
            "Epoch 2/50\n"
          ]
        },
        {
          "name": "stderr",
          "output_type": "stream",
          "text": [
            "/home/benjamin/.local/lib/python3.10/site-packages/keras/src/engine/training.py:3000: UserWarning: You are saving your model as an HDF5 file via `model.save()`. This file format is considered legacy. We recommend using instead the native Keras format, e.g. `model.save('my_model.keras')`.\n",
            "  saving_api.save_model(\n"
          ]
        },
        {
          "name": "stdout",
          "output_type": "stream",
          "text": [
            "150/150 - 20s - loss: 0.3313 - accuracy: 0.8648 - val_loss: 0.3386 - val_accuracy: 0.8800 - 20s/epoch - 134ms/step\n",
            "Epoch 3/50\n",
            "150/150 - 21s - loss: 0.2687 - accuracy: 0.8965 - val_loss: 0.3442 - val_accuracy: 0.8692 - 21s/epoch - 143ms/step\n",
            "Epoch 4/50\n",
            "150/150 - 21s - loss: 0.2224 - accuracy: 0.9148 - val_loss: 0.3564 - val_accuracy: 0.8650 - 21s/epoch - 140ms/step\n",
            "Epoch 5/50\n",
            "150/150 - 21s - loss: 0.2007 - accuracy: 0.9237 - val_loss: 0.4116 - val_accuracy: 0.8650 - 21s/epoch - 137ms/step\n",
            "38/38 - 1s - loss: 0.4116 - accuracy: 0.8650 - 999ms/epoch - 26ms/step\n",
            "38/38 [==============================] - 1s 28ms/step\n",
            "Average score: 0.4116237759590149\n",
            "Average accuracy: 0.8650000095367432\n",
            "Confusion Matrix (Fold 1):\n",
            "[[585  80]\n",
            " [ 82 453]]\n",
            "\n",
            "Classification Report (Fold 1):\n",
            "              precision    recall  f1-score   support\n",
            "\n",
            "    negative       0.88      0.88      0.88       665\n",
            "    positive       0.85      0.85      0.85       535\n",
            "\n",
            "    accuracy                           0.86      1200\n",
            "   macro avg       0.86      0.86      0.86      1200\n",
            "weighted avg       0.86      0.86      0.86      1200\n",
            "\n",
            "\n",
            "Overall Confusion Matrix:\n",
            " [[585  80]\n",
            " [ 82 453]]\n",
            "Overall Classification Report:\n",
            "               precision    recall  f1-score   support\n",
            "\n",
            "    negative       0.88      0.88      0.88       665\n",
            "    positive       0.85      0.85      0.85       535\n",
            "\n",
            "    accuracy                           0.86      1200\n",
            "   macro avg       0.86      0.86      0.86      1200\n",
            "weighted avg       0.86      0.86      0.86      1200\n",
            "\n"
          ]
        },
        {
          "data": {
            "image/png": "[encoded data removed]",
            "text/plain": [
              "<Figure size 800x600 with 2 Axes>"
            ]
          },
          "metadata": {},
          "output_type": "display_data"
        },
        {
          "name": "stdout",
          "output_type": "stream",
          "text": [
            "Overall it is a good app\n",
            "1/1 [==============================] - 0s 44ms/step\n",
            "The sentiment of the text is positive\n",
            "Seriously? This app must be joking\n",
            "1/1 [==============================] - 0s 42ms/step\n",
            "The sentiment of the text is negative\n"
          ]
        }
      ],
      "source": [
        "max_features = 2000\n",
        "token = Tokenizer(num_words=max_features, split = ' ')\n",
        "token.fit_on_texts(data['review'].values)\n",
        "\n",
        "X = token.texts_to_sequences(data['review'].values)\n",
        "X = pad_sequences(X)\n",
        "Y = pd.get_dummies(data['sentiment']).values\n",
        "\n",
        "# Model architecture\n",
        "embed_dim = 128\n",
        "lstm_out = 196\n",
        "batch_size = 32\n",
        "\n",
        "# Define number of splits\n",
        "n_splits = 5\n",
        "kf = KFold(n_splits=n_splits, shuffle=True)\n",
        "\n",
        "# Store the scores\n",
        "scores = []\n",
        "accuracies = []\n",
        "conf_matrices = []  # Store confusion matrices for each fold\n",
        "\n",
        "# k-fold cross validation\n",
        "for train_index, test_index in kf.split(X):\n",
        "    X_train, X_test = X[train_index], X[test_index]\n",
        "    y_train, y_test = Y[train_index], Y[test_index]\n",
        "\n",
        "\n",
        "model = Sequential()\n",
        "model.add(Embedding(max_features, embed_dim, input_length=X.shape[1]))\n",
        "model.add(SpatialDropout1D(0.4))\n",
        "model.add(Bidirectional(LSTM(lstm_out, dropout=0.2, recurrent_dropout=0.2)))\n",
        "model.add(Dense(2, activation='softmax'))\n",
        "model.compile(loss='binary_crossentropy', optimizer='adam', metrics=['accuracy'])\n",
        "\n",
        "# Early stopping callback\n",
        "early_stopping = EarlyStopping(monitor='val_loss', patience=3)\n",
        "\n",
        "# Model checkpoint callback\n",
        "model_checkpoint = ModelCheckpoint('best_model.h5', monitor='val_loss', save_best_only=True)\n",
        "\n",
        "# Train the model\n",
        "history = model.fit(X_train, y_train, epochs=50, batch_size=batch_size, verbose=2,\n",
        "                    validation_data=(X_test, y_test),\n",
        "                    callbacks=[early_stopping, model_checkpoint])\n",
        "\n",
        "# Evaluate the model\n",
        "score, acc = model.evaluate(X_test, y_test, batch_size=batch_size, verbose=2)\n",
        "\n",
        "# Store the score and accuracy\n",
        "scores.append(score)\n",
        "accuracies.append(acc)\n",
        "\n",
        "# Predict the test data and get the confusion matrix\n",
        "y_pred = model.predict(X_test)\n",
        "y_pred_classes = np.argmax(y_pred, axis=1)\n",
        "y_true_classes = np.argmax(y_test, axis=1)\n",
        "conf_matrix = confusion_matrix(y_true_classes, y_pred_classes)\n",
        "conf_matrices.append(conf_matrix)\n",
        "\n",
        "# Print the average score and accuracy\n",
        "print('Average score:', np.mean(scores))\n",
        "print('Average accuracy:', np.mean(accuracies))\n",
        "\n",
        "# Print confusion matrices and classification reports for each fold\n",
        "for i, conf_matrix in enumerate(conf_matrices):\n",
        "    print(f\"Confusion Matrix (Fold {i+1}):\\n{conf_matrix}\\n\")\n",
        "    class_report = classification_report(y_true_classes, y_pred_classes, target_names=['negative', 'positive'])\n",
        "    print(f\"Classification Report (Fold {i+1}):\\n{class_report}\\n\")\n",
        "\n",
        "# Calculate and print overall confusion matrix and classification report\n",
        "overall_conf_matrix = np.sum(conf_matrices, axis=0)\n",
        "print(\"Overall Confusion Matrix:\\n\", overall_conf_matrix)\n",
        "overall_class_report = classification_report(y_true_classes, y_pred_classes, target_names=['negative', 'positive'])\n",
        "print(\"Overall Classification Report:\\n\", overall_class_report)\n",
        "\n",
        "# Plot the overall confusion matrix\n",
        "plt.figure(figsize=(8, 6))\n",
        "sns.heatmap(overall_conf_matrix, annot=True, fmt='d', cmap='Blues', xticklabels=['negative', 'positive'], yticklabels=['negative', 'positive'])\n",
        "plt.xlabel('Predicted Label')\n",
        "plt.ylabel('True Label')\n",
        "plt.title('Overall Confusion Matrix')\n",
        "plt.show()\n",
        "\n",
        "def predict_sentiment(text):\n",
        "    # Clean the text\n",
        "    text = clean_train_data(text)\n",
        "\n",
        "    # Tokenize the text\n",
        "    sequences = token.texts_to_sequences([text])\n",
        "    sequences = pad_sequences(sequences, maxlen=X.shape[1])\n",
        "\n",
        "    # Predict the sentiment\n",
        "    prediction = model.predict(sequences)\n",
        "\n",
        "    # Convert the prediction into a readable form\n",
        "    sentiment = np.argmax(prediction)\n",
        "    sentiment_dict = {0: 'negative', 1: 'positive'}\n",
        "\n",
        "    print('The sentiment of the text is', sentiment_dict[sentiment])\n",
        "\n",
        "\n",
        "# Now use this function to predict the sentiment of a new text\n",
        "positive_text = \"Overall it is a good app\"\n",
        "negative_text = \"Seriously? This app must be joking\"\n",
        "print(positive_text)\n",
        "predict_sentiment(positive_text)\n",
        "print(negative_text)\n",
        "predict_sentiment(negative_text)"
      ]
    },
    {
      "cell_type": "markdown",
      "metadata": {
        "id": "c-p26nWcKEXY"
      },
      "source": [
        "The above code adds K-fold cross validation to the base bidirectional LSTM model to train the model.\n",
        "\n",
        "#### Technique Explanation\n",
        "\n",
        "K-fold cross validation is a common method for evaluating the performance of a model, and is especially suitable for situations where the amount of data is small and we want to make the best use of the data possible. In K-folding cross-validation, the dataset is uniformly divided into K subsets. In each iteration, we pick one of these K subsets as the test set and the remaining K-1 subsets as the training set. In this way, we can perform K training and testing sessions, each time with a different test set. We then take the average of the K test results as the final model performance evaluation.\n",
        "\n",
        "5-fold cross-validation is applied in the above model, which means that the dataset is divided into 5 subsets. This means that the model itself would be trained 5 times, each time with a different subset of data for training and testing. The benefit of this is that it avoids evaluation bias due to chance in data division and allows for more stable and accurate model evaluation results. The conclusions drawn also show a substantial increase in accuracy compared to not using cross-validation\n",
        "\n",
        "#### Model Performance\n",
        "\n",
        "The training results shows that cross validation optimises this model in a small scale. Probably it is due to the size of the dataset we choose is not as large as the whole database from a real-world industry, which makes this technique has little effect."
      ]
    },
    {
      "cell_type": "markdown",
      "metadata": {
        "id": "N1kQXZl8nm3N"
      },
      "source": [
        "#### BiLSTM"
      ]
    },
    {
      "cell_type": "code",
      "execution_count": null,
      "metadata": {
        "ExecuteTime": {
          "end_time": "2023-08-02T11:16:00.521176700Z",
          "start_time": "2023-08-02T11:06:43.943298300Z"
        },
        "id": "EGtq9-ttnm3N",
        "outputId": "e58e3628-54a1-4135-f818-1ef538559275"
      },
      "outputs": [
        {
          "name": "stdout",
          "output_type": "stream",
          "text": [
            "Epoch 1/50\n",
            "150/150 - 23s - loss: 1.3188 - accuracy: 0.6604 - val_loss: 0.5539 - val_accuracy: 0.7550 - 23s/epoch - 156ms/step\n",
            "Epoch 2/50\n"
          ]
        },
        {
          "name": "stderr",
          "output_type": "stream",
          "text": [
            "/home/benjamin/.local/lib/python3.10/site-packages/keras/src/engine/training.py:3000: UserWarning: You are saving your model as an HDF5 file via `model.save()`. This file format is considered legacy. We recommend using instead the native Keras format, e.g. `model.save('my_model.keras')`.\n",
            "  saving_api.save_model(\n"
          ]
        },
        {
          "name": "stdout",
          "output_type": "stream",
          "text": [
            "150/150 - 20s - loss: 0.4176 - accuracy: 0.8460 - val_loss: 0.4011 - val_accuracy: 0.8542 - 20s/epoch - 134ms/step\n",
            "Epoch 3/50\n",
            "150/150 - 21s - loss: 0.3326 - accuracy: 0.8873 - val_loss: 0.3834 - val_accuracy: 0.8525 - 21s/epoch - 138ms/step\n",
            "Epoch 4/50\n",
            "150/150 - 21s - loss: 0.2974 - accuracy: 0.9027 - val_loss: 0.3994 - val_accuracy: 0.8425 - 21s/epoch - 141ms/step\n",
            "Epoch 5/50\n",
            "150/150 - 22s - loss: 0.2654 - accuracy: 0.9167 - val_loss: 0.3770 - val_accuracy: 0.8492 - 22s/epoch - 144ms/step\n",
            "Epoch 6/50\n",
            "150/150 - 26s - loss: 0.2583 - accuracy: 0.9215 - val_loss: 0.5633 - val_accuracy: 0.8283 - 26s/epoch - 176ms/step\n",
            "Epoch 7/50\n",
            "150/150 - 32s - loss: 0.4136 - accuracy: 0.8687 - val_loss: 0.4675 - val_accuracy: 0.8267 - 32s/epoch - 212ms/step\n",
            "Epoch 8/50\n",
            "150/150 - 35s - loss: 0.2696 - accuracy: 0.9262 - val_loss: 0.4147 - val_accuracy: 0.8567 - 35s/epoch - 234ms/step\n",
            "38/38 - 2s - loss: 0.4147 - accuracy: 0.8567 - 2s/epoch - 46ms/step\n",
            "38/38 [==============================] - 3s 59ms/step\n",
            "Average score: 0.4147462844848633\n",
            "Average accuracy: 0.8566666841506958\n",
            "Confusion Matrix (Fold 1):\n",
            "[[566  85]\n",
            " [ 87 462]]\n",
            "\n",
            "Classification Report (Fold 1):\n",
            "              precision    recall  f1-score   support\n",
            "\n",
            "    negative       0.87      0.87      0.87       651\n",
            "    positive       0.84      0.84      0.84       549\n",
            "\n",
            "    accuracy                           0.86      1200\n",
            "   macro avg       0.86      0.86      0.86      1200\n",
            "weighted avg       0.86      0.86      0.86      1200\n",
            "\n",
            "\n",
            "Overall Confusion Matrix:\n",
            " [[566  85]\n",
            " [ 87 462]]\n",
            "Overall Classification Report:\n",
            "               precision    recall  f1-score   support\n",
            "\n",
            "    negative       0.87      0.87      0.87       651\n",
            "    positive       0.84      0.84      0.84       549\n",
            "\n",
            "    accuracy                           0.86      1200\n",
            "   macro avg       0.86      0.86      0.86      1200\n",
            "weighted avg       0.86      0.86      0.86      1200\n",
            "\n"
          ]
        },
        {
          "data": {
            "image/png": "[encoded data removed]",
            "text/plain": [
              "<Figure size 800x600 with 2 Axes>"
            ]
          },
          "metadata": {},
          "output_type": "display_data"
        },
        {
          "name": "stdout",
          "output_type": "stream",
          "text": [
            "Why there is no good comment? This app is amazing\n",
            "1/1 [==============================] - 0s 64ms/step\n",
            "The sentiment of the text is positive\n",
            "why it only has so few functions?\n",
            "1/1 [==============================] - 0s 77ms/step\n",
            "The sentiment of the text is negative\n"
          ]
        }
      ],
      "source": [
        "max_features = 2000\n",
        "token = Tokenizer(num_words=max_features, split = ' ')\n",
        "token.fit_on_texts(data['review'].values)\n",
        "\n",
        "X = token.texts_to_sequences(data['review'].values)\n",
        "X = pad_sequences(X)\n",
        "Y = pd.get_dummies(data['sentiment']).values\n",
        "\n",
        "# Model architecture\n",
        "embed_dim = 128\n",
        "lstm_out = 196\n",
        "batch_size = 32\n",
        "\n",
        "# Define number of splits\n",
        "n_splits = 5\n",
        "kf = KFold(n_splits=n_splits, shuffle=True)\n",
        "\n",
        "# Store the scores\n",
        "scores = []\n",
        "accuracies = []\n",
        "conf_matrices = []  # Store confusion matrices for each fold\n",
        "\n",
        "# k-fold cross validation\n",
        "for train_index, test_index in kf.split(X):\n",
        "    X_train, X_test = X[train_index], X[test_index]\n",
        "    y_train, y_test = Y[train_index], Y[test_index]\n",
        "\n",
        "\n",
        "# Re-compile the model with L2 regularization\n",
        "model = Sequential()\n",
        "model.add(Embedding(max_features, embed_dim, input_length=X.shape[1]))\n",
        "model.add(SpatialDropout1D(0.4))\n",
        "model.add(Bidirectional(LSTM(lstm_out, dropout=0.2, recurrent_dropout=0.2, kernel_regularizer=l2(0.01))))  # Add L2 regularization to the LSTM layer\n",
        "model.add(Dense(2, activation='softmax'))\n",
        "model.compile(loss='binary_crossentropy', optimizer='adam', metrics=['accuracy'])\n",
        "\n",
        "# Early stopping callback\n",
        "early_stopping = EarlyStopping(monitor='val_loss', patience=3)\n",
        "\n",
        "# Model checkpoint callback\n",
        "model_checkpoint = ModelCheckpoint('best_model.h5', monitor='val_loss', save_best_only=True)\n",
        "\n",
        "# Train the model\n",
        "history = model.fit(X_train, y_train, epochs=50, batch_size=batch_size, verbose=2,\n",
        "                    validation_data=(X_test, y_test),\n",
        "                    callbacks=[early_stopping, model_checkpoint])\n",
        "\n",
        "# Evaluate the model\n",
        "score, acc = model.evaluate(X_test, y_test, batch_size=batch_size, verbose=2)\n",
        "\n",
        "# Store the score and accuracy\n",
        "scores.append(score)\n",
        "accuracies.append(acc)\n",
        "\n",
        "# Predict the test data and get the confusion matrix\n",
        "y_pred = model.predict(X_test)\n",
        "y_pred_classes = np.argmax(y_pred, axis=1)\n",
        "y_true_classes = np.argmax(y_test, axis=1)\n",
        "conf_matrix = confusion_matrix(y_true_classes, y_pred_classes)\n",
        "conf_matrices.append(conf_matrix)\n",
        "\n",
        "# Print the average score and accuracy\n",
        "print('Average score:', np.mean(scores))\n",
        "print('Average accuracy:', np.mean(accuracies))\n",
        "\n",
        "# Print confusion matrices and classification reports for each fold\n",
        "for i, conf_matrix in enumerate(conf_matrices):\n",
        "    print(f\"Confusion Matrix (Fold {i+1}):\\n{conf_matrix}\\n\")\n",
        "    class_report = classification_report(y_true_classes, y_pred_classes, target_names=['negative', 'positive'])\n",
        "    print(f\"Classification Report (Fold {i+1}):\\n{class_report}\\n\")\n",
        "\n",
        "# Calculate and print overall confusion matrix and classification report\n",
        "overall_conf_matrix = np.sum(conf_matrices, axis=0)\n",
        "print(\"Overall Confusion Matrix:\\n\", overall_conf_matrix)\n",
        "overall_class_report = classification_report(y_true_classes, y_pred_classes, target_names=['negative', 'positive'])\n",
        "print(\"Overall Classification Report:\\n\", overall_class_report)\n",
        "\n",
        "# Plot the overall confusion matrix\n",
        "plt.figure(figsize=(8, 6))\n",
        "sns.heatmap(overall_conf_matrix, annot=True, fmt='d', cmap='Blues', xticklabels=['negative', 'positive'], yticklabels=['negative', 'positive'])\n",
        "plt.xlabel('Predicted Label')\n",
        "plt.ylabel('True Label')\n",
        "plt.title('Overall Confusion Matrix')\n",
        "plt.show()\n",
        "\n",
        "def predict_sentiment(text):\n",
        "    # Clean the text\n",
        "    text = clean_train_data(text)\n",
        "\n",
        "    # Tokenize the text\n",
        "    sequences = token.texts_to_sequences([text])\n",
        "    sequences = pad_sequences(sequences, maxlen=X.shape[1])\n",
        "\n",
        "    # Predict the sentiment\n",
        "    prediction = model.predict(sequences)\n",
        "\n",
        "    # Convert the prediction into a readable form\n",
        "    sentiment = np.argmax(prediction)\n",
        "    sentiment_dict = {0: 'negative', 1: 'positive'}\n",
        "\n",
        "    print('The sentiment of the text is', sentiment_dict[sentiment])\n",
        "\n",
        "\n",
        "# Now use this function to predict the sentiment of a new text\n",
        "positive_text = \"Why there is no good comment? This app is amazing\"\n",
        "negative_text = \"why it only has so few functions?\"\n",
        "print(positive_text)\n",
        "predict_sentiment(positive_text)\n",
        "print(negative_text)\n",
        "predict_sentiment(negative_text)"
      ]
    },
    {
      "cell_type": "markdown",
      "metadata": {
        "id": "U3onz6hCbbdN"
      },
      "source": [
        "#### Technique Explanation\n",
        "\n",
        "The L2 regularization method is used in this code, and its kernel_regularizer=l2(0.01) part is where the L2 regularization is applied. l2(0.01) indicates that the L2 regularization function is used and that the value of λ(lambda) is 0.01. The regularization term lambda is a hyperparameter that determines the strength of the regularization. The larger the value of lambda, the greater the degree of regularization and the less likely the model is to overfit. During training, the L2 regularization term (i.e., the sum of the squares of all the weights in the LSTM layer) is computed and then multiplied with the strength of regularization (0.01 in this example). This value is then added to the original loss function of the model. Therefore, it is this new loss function that the model attempts to minimize.\n",
        "By adding the L2 regularization term, the model is prevented from learning overly complex patterns in the training data.\n",
        "The L2 regularization in this code helps control the complexity of the model, reduces overfitting, and improves the model's ability to generalize from training data to new, unseen data.\n",
        "\n",
        "#### Model Performance\n",
        "\n",
        "In the given model, the L2 regularization successfully mitigates the risk of overfitting to some extent, ensuring a more generalized model. However, it's important to note that regularization introduces a bias towards smaller weights in the model. This bias might prevent the model from fitting the training data as closely as before, which can result in a slightly weaker performance on the training data.\n",
        "\n",
        "The trade-off between mitigating overfitting and maintaining optimal training performance can cause some instances to be falsely classified. Despite the slight decrease in training accuracy, the primary goal of L2 regularization is to enhance the model's generalization ability and improve performance on unseen data.\n"
      ]
    },
    {
      "cell_type": "markdown",
      "metadata": {
        "id": "xmAugdp4DVPP"
      },
      "source": [
        "#### CNN BiLSTM"
      ]
    },
    {
      "cell_type": "markdown",
      "source": [
        "CNN-Bidirectional LSTM is a hybrid deep learning architecture that combines Convolutional Neural Networks (CNNs) with Bidirectional Long Short-Term Memory (LSTM) networks.\n",
        "\n",
        "CNNs are used to extract local features from sequential input data in this model. The CNN layers perform convolutional operations to identify relevant patterns in the data.\n",
        "\n",
        "The output of the CNN layers is then fed into Bidirectional LSTM layers, which process the information in both forward and backward directions. Bidirectional LSTMs capture long-term dependencies and sequential patterns in the data, considering information from past and future context."
      ],
      "metadata": {
        "id": "H1pM8R-AcQd4"
      }
    },
    {
      "cell_type": "code",
      "execution_count": null,
      "metadata": {
        "ExecuteTime": {
          "end_time": "2023-08-02T11:34:37.973547Z",
          "start_time": "2023-08-02T11:33:01.191111300Z"
        },
        "id": "GPbdKLyOHCEQ",
        "outputId": "cd46758d-8d1e-4380-ddc7-52c6ecebbb25"
      },
      "outputs": [
        {
          "name": "stdout",
          "output_type": "stream",
          "text": [
            "Epoch 1/50\n",
            "150/150 - 13s - loss: 0.7963 - accuracy: 0.6725 - val_loss: 0.3970 - val_accuracy: 0.8508 - 13s/epoch - 88ms/step\n",
            "Epoch 2/50\n"
          ]
        },
        {
          "name": "stderr",
          "output_type": "stream",
          "text": [
            "/home/benjamin/.local/lib/python3.10/site-packages/keras/src/engine/training.py:3000: UserWarning: You are saving your model as an HDF5 file via `model.save()`. This file format is considered legacy. We recommend using instead the native Keras format, e.g. `model.save('my_model.keras')`.\n",
            "  saving_api.save_model(\n"
          ]
        },
        {
          "name": "stdout",
          "output_type": "stream",
          "text": [
            "150/150 - 10s - loss: 0.3338 - accuracy: 0.8810 - val_loss: 0.3606 - val_accuracy: 0.8683 - 10s/epoch - 68ms/step\n",
            "Epoch 3/50\n",
            "150/150 - 10s - loss: 0.2621 - accuracy: 0.9081 - val_loss: 0.3652 - val_accuracy: 0.8600 - 10s/epoch - 67ms/step\n",
            "Epoch 4/50\n",
            "150/150 - 10s - loss: 0.2198 - accuracy: 0.9260 - val_loss: 0.3960 - val_accuracy: 0.8608 - 10s/epoch - 69ms/step\n",
            "Epoch 5/50\n",
            "150/150 - 11s - loss: 0.1842 - accuracy: 0.9392 - val_loss: 0.4279 - val_accuracy: 0.8517 - 11s/epoch - 71ms/step\n",
            "38/38 - 1s - loss: 0.4279 - accuracy: 0.8517 - 634ms/epoch - 17ms/step\n",
            "38/38 [==============================] - 1s 16ms/step\n",
            "Average score: 0.42788854241371155\n",
            "Average accuracy: 0.8516666889190674\n",
            "Confusion Matrix (Fold 1):\n",
            "[[542  86]\n",
            " [ 92 480]]\n",
            "\n",
            "Classification Report (Fold 1):\n",
            "              precision    recall  f1-score   support\n",
            "\n",
            "    negative       0.85      0.86      0.86       628\n",
            "    positive       0.85      0.84      0.84       572\n",
            "\n",
            "    accuracy                           0.85      1200\n",
            "   macro avg       0.85      0.85      0.85      1200\n",
            "weighted avg       0.85      0.85      0.85      1200\n",
            "\n",
            "\n",
            "Overall Confusion Matrix:\n",
            " [[542  86]\n",
            " [ 92 480]]\n",
            "Overall Classification Report:\n",
            "               precision    recall  f1-score   support\n",
            "\n",
            "    negative       0.85      0.86      0.86       628\n",
            "    positive       0.85      0.84      0.84       572\n",
            "\n",
            "    accuracy                           0.85      1200\n",
            "   macro avg       0.85      0.85      0.85      1200\n",
            "weighted avg       0.85      0.85      0.85      1200\n",
            "\n"
          ]
        },
        {
          "data": {
            "image/png": "[encoded data removed]",
            "text/plain": [
              "<Figure size 800x600 with 2 Axes>"
            ]
          },
          "metadata": {},
          "output_type": "display_data"
        },
        {
          "name": "stdout",
          "output_type": "stream",
          "text": [
            "Why there is no good comment? This app is amazing\n",
            "1/1 [==============================] - 0s 29ms/step\n",
            "The sentiment of the text is positive\n",
            "why it only has so few functions?\n",
            "1/1 [==============================] - 0s 29ms/step\n",
            "The sentiment of the text is negative\n"
          ]
        }
      ],
      "source": [
        "max_features = 2000\n",
        "token = Tokenizer(num_words=max_features, split = ' ')\n",
        "token.fit_on_texts(data['review'].values)\n",
        "\n",
        "X = token.texts_to_sequences(data['review'].values)\n",
        "X = pad_sequences(X)\n",
        "Y = pd.get_dummies(data['sentiment']).values\n",
        "\n",
        "# Model architecture\n",
        "embed_dim = 128\n",
        "lstm_out = 196\n",
        "batch_size = 32\n",
        "\n",
        "# Define number of splits\n",
        "n_splits = 5\n",
        "kf = KFold(n_splits=n_splits, shuffle=True)\n",
        "\n",
        "# Store the scores\n",
        "scores = []\n",
        "accuracies = []\n",
        "conf_matrices = []  # Store confusion matrices for each fold\n",
        "\n",
        "# k-fold cross validation\n",
        "for train_index, test_index in kf.split(X):\n",
        "    X_train, X_test = X[train_index], X[test_index]\n",
        "    y_train, y_test = Y[train_index], Y[test_index]\n",
        "\n",
        "model = Sequential()\n",
        "model.add(Embedding(max_features, embed_dim, input_length=X.shape[1]))\n",
        "\n",
        "model.add(Conv1D(filters=32, kernel_size=3, padding='same', activation='relu'))\n",
        "model.add(MaxPooling1D(pool_size=2))\n",
        "\n",
        "model.add(Bidirectional(LSTM(lstm_out, dropout=0.2, recurrent_dropout=0.2, kernel_regularizer=l2(0.01))))\n",
        "model.add(Dense(2, activation='softmax'))\n",
        "model.compile(loss='binary_crossentropy', optimizer='adam', metrics=['accuracy'])\n",
        "\n",
        "# Early stopping callback\n",
        "early_stopping = EarlyStopping(monitor='val_loss', patience=3)\n",
        "\n",
        "# Model checkpoint callback\n",
        "model_checkpoint = ModelCheckpoint('best_model.h5', monitor='val_loss', save_best_only=True)\n",
        "\n",
        "# Train the model\n",
        "history = model.fit(X_train, y_train, epochs=50, batch_size=batch_size, verbose=2,\n",
        "                    validation_data=(X_test, y_test),\n",
        "                    callbacks=[early_stopping, model_checkpoint])\n",
        "\n",
        "# Evaluate the model\n",
        "score, acc = model.evaluate(X_test, y_test, batch_size=batch_size, verbose=2)\n",
        "\n",
        "# Store the score and accuracy\n",
        "scores.append(score)\n",
        "accuracies.append(acc)\n",
        "\n",
        "# Predict the test data and get the confusion matrix\n",
        "y_pred = model.predict(X_test)\n",
        "y_pred_classes = np.argmax(y_pred, axis=1)\n",
        "y_true_classes = np.argmax(y_test, axis=1)\n",
        "conf_matrix = confusion_matrix(y_true_classes, y_pred_classes)\n",
        "conf_matrices.append(conf_matrix)\n",
        "\n",
        "# Print the average score and accuracy\n",
        "print('Average score:', np.mean(scores))\n",
        "print('Average accuracy:', np.mean(accuracies))\n",
        "\n",
        "# Print confusion matrices and classification reports for each fold\n",
        "for i, conf_matrix in enumerate(conf_matrices):\n",
        "    print(f\"Confusion Matrix (Fold {i+1}):\\n{conf_matrix}\\n\")\n",
        "    class_report = classification_report(y_true_classes, y_pred_classes, target_names=['negative', 'positive'])\n",
        "    print(f\"Classification Report (Fold {i+1}):\\n{class_report}\\n\")\n",
        "\n",
        "# Calculate and print overall confusion matrix and classification report\n",
        "overall_conf_matrix = np.sum(conf_matrices, axis=0)\n",
        "print(\"Overall Confusion Matrix:\\n\", overall_conf_matrix)\n",
        "overall_class_report = classification_report(y_true_classes, y_pred_classes, target_names=['negative', 'positive'])\n",
        "print(\"Overall Classification Report:\\n\", overall_class_report)\n",
        "\n",
        "# Plot the overall confusion matrix\n",
        "plt.figure(figsize=(8, 6))\n",
        "sns.heatmap(overall_conf_matrix, annot=True, fmt='d', cmap='Blues', xticklabels=['negative', 'positive'], yticklabels=['negative', 'positive'])\n",
        "plt.xlabel('Predicted Label')\n",
        "plt.ylabel('True Label')\n",
        "plt.title('Overall Confusion Matrix')\n",
        "plt.show()\n",
        "\n",
        "def predict_sentiment(text):\n",
        "    # Clean the text\n",
        "    text = clean_train_data(text)\n",
        "\n",
        "    # Tokenize the text\n",
        "    sequences = token.texts_to_sequences([text])\n",
        "    sequences = pad_sequences(sequences, maxlen=X.shape[1])\n",
        "\n",
        "    # Predict the sentiment\n",
        "    prediction = model.predict(sequences)\n",
        "\n",
        "    # Convert the prediction into a readable form\n",
        "    sentiment = np.argmax(prediction)\n",
        "    sentiment_dict = {0: 'negative', 1: 'positive'}\n",
        "\n",
        "    print('The sentiment of the text is', sentiment_dict[sentiment])\n",
        "\n",
        "\n",
        "# Now use this function to predict the sentiment of a new text\n",
        "positive_text = \"Why there is no good comment? This app is amazing\"\n",
        "negative_text = \"why it only has so few functions?\"\n",
        "print(positive_text)\n",
        "predict_sentiment(positive_text)\n",
        "print(negative_text)\n",
        "predict_sentiment(negative_text)"
      ]
    },
    {
      "cell_type": "markdown",
      "metadata": {
        "id": "WHPC-b7dh7dk"
      },
      "source": [
        "#### Technique Explanation\n",
        "\n",
        "filters: 32, which is the number of filters (also known as convolution kernels) used to extract features during the convolution process. In this case, the network will learn 32 different features.\n",
        "\n",
        "kernel_size: 3, this defines the number of consecutive words that each convolutional kernel will consider simultaneously. Here, each convolution will cover 3 words.\n",
        "\n",
        "activation: 'relu', this is the activation function applied to the output of the convolution operation. the ReLU (Rectified Linear Unit) function converts all the negative pixel values to 0.\n",
        "This CNN layer is followed by a MaxPooling layer where the pool_size is set to 2. This means that the input feature dimensions are reduced to half of their original dimensions while maintaining the important information.\n",
        "\n",
        "The average accuracy of this model is 0.8717. From the confusion matrix, it can be seen that about 89% and 85% of the positive and negative evaluations predicted by the model are correct, respectively.\n",
        "\n",
        "#### Model Performace\n",
        "\n",
        "During the training process, the accuracy and loss values of the model are recorded after each epoch. From the output given, it can be seen that as the epoch increases, the loss value (loss) is decreasing and the accuracy (accuracy) is increasing on the training set. However, on the validation set, the loss value (val_loss) starts increasing after reaching the minimum value and the accuracy (val_accuracy) starts decreasing. This can be a sign of overfitting, indicating that the model overlearned on the training set and does not generalize well to new, unseen data.\n"
      ]
    },
    {
      "cell_type": "markdown",
      "metadata": {
        "id": "XzmutJSkjy17"
      },
      "source": [
        "### Tri-class Classification"
      ]
    },
    {
      "cell_type": "markdown",
      "metadata": {
        "id": "ByBlKVO15M6n"
      },
      "source": [
        "#### BiLSTM with only word2vec"
      ]
    },
    {
      "cell_type": "markdown",
      "source": [
        "\n",
        "Word2Vec is a word embedding technique developed by Google that learns word embeddings from large amounts of text data using either the Continuous Bag of Words (CBOW) or Skip-gram architecture. It represents words as dense vectors in a high-dimensional space, where words with similar meanings are positioned closer to each other. Word2Vec learns these word embeddings from large amounts of text data, capturing semantic relationships between words and enabling machines to better understand word meanings.\n",
        "\n"
      ],
      "metadata": {
        "id": "KCpkzFpfc3U1"
      }
    },
    {
      "cell_type": "code",
      "execution_count": null,
      "metadata": {
        "ExecuteTime": {
          "end_time": "2023-08-02T12:33:08.650584200Z",
          "start_time": "2023-08-02T12:16:52.783426400Z"
        },
        "id": "SVSuhnIx5M6t",
        "outputId": "7445d780-bf08-459a-f524-469ca2dc0697"
      },
      "outputs": [
        {
          "name": "stdout",
          "output_type": "stream",
          "text": [
            "Epoch 1/25\n",
            "684/684 - 67s - loss: 0.7809 - accuracy: 0.6577 - val_loss: 0.5745 - val_accuracy: 0.7632 - 67s/epoch - 97ms/step\n",
            "Epoch 2/25\n"
          ]
        },
        {
          "name": "stderr",
          "output_type": "stream",
          "text": [
            "/home/benjamin/.local/lib/python3.10/site-packages/keras/src/engine/training.py:3000: UserWarning: You are saving your model as an HDF5 file via `model.save()`. This file format is considered legacy. We recommend using instead the native Keras format, e.g. `model.save('my_model.keras')`.\n",
            "  saving_api.save_model(\n"
          ]
        },
        {
          "name": "stdout",
          "output_type": "stream",
          "text": [
            "684/684 - 61s - loss: 0.4931 - accuracy: 0.8018 - val_loss: 0.4369 - val_accuracy: 0.8318 - 61s/epoch - 90ms/step\n",
            "Epoch 3/25\n",
            "684/684 - 57s - loss: 0.3958 - accuracy: 0.8469 - val_loss: 0.4039 - val_accuracy: 0.8484 - 57s/epoch - 83ms/step\n",
            "Epoch 4/25\n",
            "684/684 - 60s - loss: 0.3432 - accuracy: 0.8679 - val_loss: 0.3802 - val_accuracy: 0.8616 - 60s/epoch - 88ms/step\n",
            "Epoch 5/25\n",
            "684/684 - 65s - loss: 0.3021 - accuracy: 0.8871 - val_loss: 0.3576 - val_accuracy: 0.8735 - 65s/epoch - 95ms/step\n",
            "Epoch 6/25\n",
            "684/684 - 63s - loss: 0.2652 - accuracy: 0.9025 - val_loss: 0.3491 - val_accuracy: 0.8859 - 63s/epoch - 93ms/step\n",
            "Epoch 7/25\n",
            "684/684 - 66s - loss: 0.2334 - accuracy: 0.9150 - val_loss: 0.3412 - val_accuracy: 0.8907 - 66s/epoch - 96ms/step\n",
            "Epoch 8/25\n",
            "684/684 - 60s - loss: 0.2096 - accuracy: 0.9250 - val_loss: 0.3110 - val_accuracy: 0.9005 - 60s/epoch - 87ms/step\n",
            "Epoch 9/25\n",
            "684/684 - 56s - loss: 0.1846 - accuracy: 0.9339 - val_loss: 0.3127 - val_accuracy: 0.9057 - 56s/epoch - 82ms/step\n",
            "Epoch 10/25\n",
            "684/684 - 57s - loss: 0.1657 - accuracy: 0.9426 - val_loss: 0.3293 - val_accuracy: 0.9097 - 57s/epoch - 83ms/step\n",
            "Epoch 11/25\n",
            "684/684 - 58s - loss: 0.1454 - accuracy: 0.9483 - val_loss: 0.3095 - val_accuracy: 0.9161 - 58s/epoch - 84ms/step\n",
            "Epoch 12/25\n",
            "684/684 - 57s - loss: 0.1303 - accuracy: 0.9537 - val_loss: 0.3067 - val_accuracy: 0.9241 - 57s/epoch - 83ms/step\n",
            "Epoch 13/25\n",
            "684/684 - 57s - loss: 0.1205 - accuracy: 0.9585 - val_loss: 0.3400 - val_accuracy: 0.9216 - 57s/epoch - 83ms/step\n",
            "Epoch 14/25\n",
            "684/684 - 58s - loss: 0.1070 - accuracy: 0.9631 - val_loss: 0.3237 - val_accuracy: 0.9203 - 58s/epoch - 84ms/step\n",
            "Epoch 15/25\n",
            "684/684 - 58s - loss: 0.0954 - accuracy: 0.9658 - val_loss: 0.3285 - val_accuracy: 0.9280 - 58s/epoch - 85ms/step\n",
            "171/171 - 3s - loss: 0.3285 - accuracy: 0.9280 - 3s/epoch - 19ms/step\n",
            "171/171 [==============================] - 3s 17ms/step\n",
            "Average score: 0.3285400867462158\n",
            "Average accuracy: 0.9279575943946838\n",
            "Confusion Matrix (Fold 1):\n",
            "[[1520  202   69]\n",
            " [  40 1751   35]\n",
            " [  12   36 1804]]\n",
            "\n",
            "Classification Report (Fold 1):\n",
            "              precision    recall  f1-score   support\n",
            "\n",
            "    negative       0.97      0.85      0.90      1791\n",
            "     neutral       0.88      0.96      0.92      1826\n",
            "    positive       0.95      0.97      0.96      1852\n",
            "\n",
            "    accuracy                           0.93      5469\n",
            "   macro avg       0.93      0.93      0.93      5469\n",
            "weighted avg       0.93      0.93      0.93      5469\n",
            "\n",
            "\n",
            "Overall Confusion Matrix:\n",
            " [[1520  202   69]\n",
            " [  40 1751   35]\n",
            " [  12   36 1804]]\n",
            "Overall Classification Report:\n",
            "               precision    recall  f1-score   support\n",
            "\n",
            "    negative       0.97      0.85      0.90      1791\n",
            "     neutral       0.88      0.96      0.92      1826\n",
            "    positive       0.95      0.97      0.96      1852\n",
            "\n",
            "    accuracy                           0.93      5469\n",
            "   macro avg       0.93      0.93      0.93      5469\n",
            "weighted avg       0.93      0.93      0.93      5469\n",
            "\n"
          ]
        },
        {
          "data": {
            "image/png": "[encoded data removed]",
            "text/plain": [
              "<Figure size 800x600 with 2 Axes>"
            ]
          },
          "metadata": {},
          "output_type": "display_data"
        },
        {
          "name": "stdout",
          "output_type": "stream",
          "text": [
            "I have to admit that my last flight with Qantas airline is fabulous 😃!\n",
            "1/1 [==============================] - 0s 32ms/step\n",
            "The sentiment of the text is positive\n",
            "How was your tirp in Sydney?\n",
            "1/1 [==============================] - 0s 36ms/step\n",
            "The sentiment of the text is neutral\n",
            "I should have known that the plane would be late again and again and again!!!\n",
            "1/1 [==============================] - 0s 32ms/step\n",
            "The sentiment of the text is negative\n"
          ]
        }
      ],
      "source": [
        "max_features = 2000\n",
        "token = Tokenizer(num_words=max_features, split = ' ')\n",
        "token.fit_on_texts(data['text'].values)\n",
        "\n",
        "X = token.texts_to_sequences(data['text'].values)\n",
        "X = pad_sequences(X)\n",
        "Y = pd.get_dummies(data['airline_sentiment']).values\n",
        "\n",
        "# Train Word2Vec embeddings\n",
        "word2vec_embedding_dim = 128 # Set the desired embedding dimension\n",
        "word2vec_model = Word2Vec(sentences=[text.split() for text in data['text'].values],\n",
        "                          vector_size=word2vec_embedding_dim, window=3, min_count=1, workers=4)\n",
        "# Create embedding matrix\n",
        "embedding_matrix = np.zeros((max_features, word2vec_embedding_dim))\n",
        "for word, i in token.word_index.items():\n",
        "    if word in word2vec_model.wv and i < max_features:\n",
        "        embedding_matrix[i] = word2vec_model.wv[word]\n",
        "\n",
        "# Model architecture\n",
        "embed_dim = word2vec_embedding_dim # Use Word2Vec embedding dimension\n",
        "lstm_out = 196\n",
        "batch_size = 32\n",
        "\n",
        "# Store the scores\n",
        "scores = []\n",
        "accuracies = []\n",
        "conf_matrices = []  # Store confusion matrices for each fold\n",
        "\n",
        "X_train, X_test, y_train, y_test = train_test_split(X,Y, test_size=0.2, random_state=42)\n",
        "\n",
        "model = Sequential()\n",
        "model.add(Embedding(max_features, embed_dim, weights=[embedding_matrix], input_length=X.shape[1], trainable=True))\n",
        "model.add(SpatialDropout1D(0.4))\n",
        "model.add(Bidirectional(LSTM(lstm_out, dropout=0.2, recurrent_dropout=0.2)))\n",
        "model.add(Dense(3, activation='softmax'))\n",
        "model.compile(loss='categorical_crossentropy', optimizer='adam', metrics=['accuracy'])\n",
        "\n",
        "# Early stopping callback\n",
        "early_stopping = EarlyStopping(monitor='val_loss', patience=3)\n",
        "\n",
        "# Model checkpoint callback\n",
        "model_checkpoint = ModelCheckpoint('best_model.h5', monitor='val_loss', save_best_only=True)\n",
        "\n",
        "\n",
        "# Train the model\n",
        "history = model.fit(X_train, y_train, epochs=25, batch_size=batch_size, verbose=2,\n",
        "                    validation_data=(X_test, y_test),\n",
        "                    callbacks=[early_stopping, model_checkpoint])\n",
        "\n",
        "# Evaluate the model\n",
        "score, acc = model.evaluate(X_test, y_test, batch_size=batch_size, verbose=2)\n",
        "\n",
        "# Store the score and accuracy\n",
        "scores.append(score)\n",
        "accuracies.append(acc)\n",
        "\n",
        "# Predict the test data and get the confusion matrix\n",
        "y_pred = model.predict(X_test)\n",
        "y_pred_classes = np.argmax(y_pred, axis=1)\n",
        "y_true_classes = np.argmax(y_test, axis=1)\n",
        "conf_matrix = confusion_matrix(y_true_classes, y_pred_classes)\n",
        "conf_matrices.append(conf_matrix)\n",
        "\n",
        "# Print the average score and accuracy\n",
        "print('Average score:', np.mean(scores))\n",
        "print('Average accuracy:', np.mean(accuracies))\n",
        "\n",
        "# Print confusion matrices and classification reports for each fold\n",
        "for i, conf_matrix in enumerate(conf_matrices):\n",
        "    print(f\"Confusion Matrix (Fold {i+1}):\\n{conf_matrix}\\n\")\n",
        "    class_report = classification_report(y_true_classes, y_pred_classes, target_names=['negative', 'neutral', 'positive'])\n",
        "    print(f\"Classification Report (Fold {i+1}):\\n{class_report}\\n\")\n",
        "\n",
        "# Calculate and print overall confusion matrix and classification report\n",
        "overall_conf_matrix = np.sum(conf_matrices, axis=0)\n",
        "print(\"Overall Confusion Matrix:\\n\", overall_conf_matrix)\n",
        "overall_class_report = classification_report(y_true_classes, y_pred_classes, target_names=['negative', 'neutral', 'positive'])\n",
        "print(\"Overall Classification Report:\\n\", overall_class_report)\n",
        "\n",
        "# Plot the overall confusion matrix\n",
        "plt.figure(figsize=(8, 6))\n",
        "sns.heatmap(overall_conf_matrix, annot=True, fmt='d', cmap='Blues', xticklabels=['negative', 'neutral', 'positive'], yticklabels=['negative', 'neutral', 'positive'])\n",
        "plt.xlabel('Predicted Label')\n",
        "plt.ylabel('True Label')\n",
        "plt.title('Overall Confusion Matrix')\n",
        "plt.show()\n",
        "\n",
        "def predict_sentiment(text):\n",
        "    # Clean the text\n",
        "    text = clean_train_data(text)\n",
        "\n",
        "    # Tokenize the text\n",
        "    sequences = token.texts_to_sequences([text])\n",
        "    sequences = pad_sequences(sequences, maxlen=X.shape[1])\n",
        "\n",
        "    # Predict the sentiment\n",
        "    prediction = model.predict(sequences)\n",
        "\n",
        "    # Convert the prediction into a readable form\n",
        "    sentiment = np.argmax(prediction)\n",
        "    sentiment_dict = {0: 'negative', 1: 'neutral', 2: 'positive'}\n",
        "\n",
        "    print('The sentiment of the text is', sentiment_dict[sentiment])\n",
        "\n",
        "\n",
        "# Now use this function to predict the sentiment of a new text\n",
        "positive_text = \"I have to admit that my last flight with Qantas airline is fabulous 😃!\"\n",
        "neutral_text = \"How was your tirp in Sydney?\"\n",
        "negative_text = \"I should have known that the plane would be late again and again and again!!!\"\n",
        "print(positive_text)\n",
        "predict_sentiment(positive_text)\n",
        "print(neutral_text)\n",
        "predict_sentiment(neutral_text)\n",
        "print(negative_text)\n",
        "predict_sentiment(negative_text)"
      ]
    },
    {
      "cell_type": "markdown",
      "metadata": {
        "id": "hKto3muCJAq0"
      },
      "source": [
        "####Technique Explanation\n",
        "\n",
        "Word2Vec is applied to tri-class classification tasks instead of binary because it enhances the model's ability to capture nuanced semantic differences between sentiment classes. By using word embeddings, the model can leverage the relationships between words to better distinguish between all three classes, resulting in more accurate sentiment predictions. In binary classification, where there are only two sentiment categories, the semantic nuances are less complex, and simple word representations may suffice. However, in tri-class classification, the distinctions between the three classes require a more nuanced representation of word meanings, making Word2Vec a valuable tool to improve model performance.\n",
        "\n",
        "####Model Performance\n",
        "\n",
        "This tri-class data is processed in a similar way as the binary one. This model uses Word2Vec, and it can be seen that the increase in dimensionality increases the amount of data at the same time, and the accuracy of the model is much higher than the same processing of two-dimensional data, with an average accuracy at 92%"
      ]
    },
    {
      "cell_type": "markdown",
      "metadata": {
        "id": "46fT0gSN5M6u"
      },
      "source": [
        "#### BiLSTM (L2)"
      ]
    },
    {
      "cell_type": "code",
      "execution_count": null,
      "metadata": {
        "ExecuteTime": {
          "end_time": "2023-08-02T13:07:08.804503800Z",
          "start_time": "2023-08-02T12:33:22.300430400Z"
        },
        "id": "bzDJlvES5M6u",
        "outputId": "467b2882-789b-4777-b9ce-c40b08ee2bf9"
      },
      "outputs": [
        {
          "name": "stdout",
          "output_type": "stream",
          "text": [
            "Epoch 1/50\n",
            "684/684 - 70s - loss: 1.1204 - accuracy: 0.6135 - val_loss: 0.6856 - val_accuracy: 0.7608 - 70s/epoch - 103ms/step\n",
            "Epoch 2/50\n"
          ]
        },
        {
          "name": "stderr",
          "output_type": "stream",
          "text": [
            "/home/benjamin/.local/lib/python3.10/site-packages/keras/src/engine/training.py:3000: UserWarning: You are saving your model as an HDF5 file via `model.save()`. This file format is considered legacy. We recommend using instead the native Keras format, e.g. `model.save('my_model.keras')`.\n",
            "  saving_api.save_model(\n"
          ]
        },
        {
          "name": "stdout",
          "output_type": "stream",
          "text": [
            "684/684 - 68s - loss: 0.6410 - accuracy: 0.7683 - val_loss: 0.5448 - val_accuracy: 0.8146 - 68s/epoch - 99ms/step\n",
            "Epoch 3/50\n",
            "684/684 - 62s - loss: 0.5328 - accuracy: 0.8172 - val_loss: 0.5212 - val_accuracy: 0.8221 - 62s/epoch - 91ms/step\n",
            "Epoch 4/50\n",
            "684/684 - 61s - loss: 0.4739 - accuracy: 0.8392 - val_loss: 0.4856 - val_accuracy: 0.8407 - 61s/epoch - 89ms/step\n",
            "Epoch 5/50\n",
            "684/684 - 57s - loss: 0.4419 - accuracy: 0.8517 - val_loss: 0.4812 - val_accuracy: 0.8343 - 57s/epoch - 83ms/step\n",
            "Epoch 6/50\n",
            "684/684 - 56s - loss: 0.4221 - accuracy: 0.8603 - val_loss: 0.4584 - val_accuracy: 0.8501 - 56s/epoch - 83ms/step\n",
            "Epoch 7/50\n",
            "684/684 - 61s - loss: 0.4023 - accuracy: 0.8655 - val_loss: 0.4603 - val_accuracy: 0.8411 - 61s/epoch - 89ms/step\n",
            "Epoch 8/50\n",
            "684/684 - 61s - loss: 0.3887 - accuracy: 0.8707 - val_loss: 0.4506 - val_accuracy: 0.8466 - 61s/epoch - 89ms/step\n",
            "Epoch 9/50\n",
            "684/684 - 62s - loss: 0.3731 - accuracy: 0.8792 - val_loss: 0.4327 - val_accuracy: 0.8563 - 62s/epoch - 90ms/step\n",
            "Epoch 10/50\n",
            "684/684 - 59s - loss: 0.3625 - accuracy: 0.8826 - val_loss: 0.4351 - val_accuracy: 0.8563 - 59s/epoch - 87ms/step\n",
            "Epoch 11/50\n",
            "684/684 - 57s - loss: 0.3510 - accuracy: 0.8865 - val_loss: 0.4425 - val_accuracy: 0.8572 - 57s/epoch - 83ms/step\n",
            "Epoch 12/50\n",
            "684/684 - 59s - loss: 0.3454 - accuracy: 0.8884 - val_loss: 0.4299 - val_accuracy: 0.8678 - 59s/epoch - 86ms/step\n",
            "Epoch 13/50\n",
            "684/684 - 61s - loss: 0.3340 - accuracy: 0.8942 - val_loss: 0.4188 - val_accuracy: 0.8687 - 61s/epoch - 88ms/step\n",
            "Epoch 14/50\n",
            "684/684 - 64s - loss: 0.3241 - accuracy: 0.8984 - val_loss: 0.4102 - val_accuracy: 0.8720 - 64s/epoch - 94ms/step\n",
            "Epoch 15/50\n",
            "684/684 - 60s - loss: 0.3196 - accuracy: 0.8995 - val_loss: 0.4220 - val_accuracy: 0.8716 - 60s/epoch - 88ms/step\n",
            "Epoch 16/50\n",
            "684/684 - 61s - loss: 0.3110 - accuracy: 0.9044 - val_loss: 0.4014 - val_accuracy: 0.8790 - 61s/epoch - 90ms/step\n",
            "Epoch 17/50\n",
            "684/684 - 58s - loss: 0.3027 - accuracy: 0.9041 - val_loss: 0.4230 - val_accuracy: 0.8733 - 58s/epoch - 85ms/step\n",
            "Epoch 18/50\n",
            "684/684 - 61s - loss: 0.3033 - accuracy: 0.9073 - val_loss: 0.4328 - val_accuracy: 0.8711 - 61s/epoch - 89ms/step\n",
            "Epoch 19/50\n",
            "684/684 - 56s - loss: 0.2929 - accuracy: 0.9123 - val_loss: 0.4149 - val_accuracy: 0.8797 - 56s/epoch - 82ms/step\n",
            "171/171 - 3s - loss: 0.4149 - accuracy: 0.8797 - 3s/epoch - 17ms/step\n",
            "171/171 [==============================] - 4s 20ms/step\n",
            "Average score: 0.4149037003517151\n",
            "Average accuracy: 0.8796855211257935\n",
            "Confusion Matrix (Fold 1):\n",
            "[[1454  207  130]\n",
            " [ 148 1583   95]\n",
            " [  27   51 1774]]\n",
            "\n",
            "Classification Report (Fold 1):\n",
            "              precision    recall  f1-score   support\n",
            "\n",
            "    negative       0.89      0.81      0.85      1791\n",
            "     neutral       0.86      0.87      0.86      1826\n",
            "    positive       0.89      0.96      0.92      1852\n",
            "\n",
            "    accuracy                           0.88      5469\n",
            "   macro avg       0.88      0.88      0.88      5469\n",
            "weighted avg       0.88      0.88      0.88      5469\n",
            "\n",
            "\n",
            "Overall Confusion Matrix:\n",
            " [[1454  207  130]\n",
            " [ 148 1583   95]\n",
            " [  27   51 1774]]\n",
            "Overall Classification Report:\n",
            "               precision    recall  f1-score   support\n",
            "\n",
            "    negative       0.89      0.81      0.85      1791\n",
            "     neutral       0.86      0.87      0.86      1826\n",
            "    positive       0.89      0.96      0.92      1852\n",
            "\n",
            "    accuracy                           0.88      5469\n",
            "   macro avg       0.88      0.88      0.88      5469\n",
            "weighted avg       0.88      0.88      0.88      5469\n",
            "\n"
          ]
        },
        {
          "data": {
            "image/png": "[encoded data removed]",
            "text/plain": [
              "<Figure size 800x600 with 2 Axes>"
            ]
          },
          "metadata": {},
          "output_type": "display_data"
        },
        {
          "name": "stdout",
          "output_type": "stream",
          "text": [
            "I have to admit that my last flight with Qantas airline is fabulous 😃!\n",
            "1/1 [==============================] - 0s 45ms/step\n",
            "The sentiment of the text is positive\n",
            "How was your tirp in Sydney?\n",
            "1/1 [==============================] - 0s 47ms/step\n",
            "The sentiment of the text is neutral\n",
            "I should have known that the plane would be late again and again and again!!!\n",
            "1/1 [==============================] - 0s 41ms/step\n",
            "The sentiment of the text is negative\n"
          ]
        }
      ],
      "source": [
        "max_features = 2000\n",
        "token = Tokenizer(num_words=max_features, split = ' ')\n",
        "token.fit_on_texts(data['text'].values)\n",
        "\n",
        "X = token.texts_to_sequences(data['text'].values)\n",
        "X = pad_sequences(X)\n",
        "Y = pd.get_dummies(data['airline_sentiment']).values\n",
        "\n",
        "# Train Word2Vec embeddings\n",
        "word2vec_embedding_dim = 128 # Set the desired embedding dimension\n",
        "word2vec_model = Word2Vec(sentences=[text.split() for text in data['text'].values],\n",
        "                          vector_size=word2vec_embedding_dim, window=3, min_count=1, workers=4)\n",
        "# Create embedding matrix\n",
        "embedding_matrix = np.zeros((max_features, word2vec_embedding_dim))\n",
        "for word, i in token.word_index.items():\n",
        "    if word in word2vec_model.wv and i < max_features:\n",
        "        embedding_matrix[i] = word2vec_model.wv[word]\n",
        "\n",
        "# Model architecture\n",
        "embed_dim = word2vec_embedding_dim # Use Word2Vec embedding dimension\n",
        "lstm_out = 196\n",
        "batch_size = 32\n",
        "\n",
        "\n",
        "# Store the scores\n",
        "scores = []\n",
        "accuracies = []\n",
        "conf_matrices = []  # Store confusion matrices for each fold\n",
        "\n",
        "X_train, X_test, y_train, y_test = train_test_split(X,Y, test_size=0.2, random_state=42)\n",
        "\n",
        "# Re-compile the model with L2 regularization\n",
        "model = Sequential()\n",
        "model.add(Embedding(max_features, embed_dim, weights=[embedding_matrix], input_length=X.shape[1], trainable=True))\n",
        "model.add(SpatialDropout1D(0.4))\n",
        "model.add(Bidirectional(LSTM(lstm_out, dropout=0.2, recurrent_dropout=0.2, kernel_regularizer=l2(0.01))))  # Add L2 regularization to the LSTM layer\n",
        "model.add(Dense(3, activation='softmax'))\n",
        "model.compile(loss='categorical_crossentropy', optimizer='adam', metrics=['accuracy'])\n",
        "\n",
        "# Early stopping callback\n",
        "early_stopping = EarlyStopping(monitor='val_loss', patience=3)\n",
        "\n",
        "# Model checkpoint callback\n",
        "model_checkpoint = ModelCheckpoint('best_model.h5', monitor='val_loss', save_best_only=True)\n",
        "\n",
        "\n",
        "\n",
        "# Train the model\n",
        "history = model.fit(X_train, y_train, epochs=50, batch_size=batch_size, verbose=2,\n",
        "                    validation_data=(X_test, y_test),\n",
        "                    callbacks=[early_stopping, model_checkpoint])\n",
        "\n",
        "# Evaluate the model\n",
        "score, acc = model.evaluate(X_test, y_test, batch_size=batch_size, verbose=2)\n",
        "\n",
        "# Store the score and accuracy\n",
        "scores.append(score)\n",
        "accuracies.append(acc)\n",
        "\n",
        "# Predict the test data and get the confusion matrix\n",
        "y_pred = model.predict(X_test)\n",
        "y_pred_classes = np.argmax(y_pred, axis=1)\n",
        "y_true_classes = np.argmax(y_test, axis=1)\n",
        "conf_matrix = confusion_matrix(y_true_classes, y_pred_classes)\n",
        "conf_matrices.append(conf_matrix)\n",
        "\n",
        "# Print the average score and accuracy\n",
        "print('Average score:', np.mean(scores))\n",
        "print('Average accuracy:', np.mean(accuracies))\n",
        "\n",
        "# Print confusion matrices and classification reports for each fold\n",
        "for i, conf_matrix in enumerate(conf_matrices):\n",
        "    print(f\"Confusion Matrix (Fold {i+1}):\\n{conf_matrix}\\n\")\n",
        "    class_report = classification_report(y_true_classes, y_pred_classes, target_names=['negative', 'neutral', 'positive'])\n",
        "    print(f\"Classification Report (Fold {i+1}):\\n{class_report}\\n\")\n",
        "\n",
        "# Calculate and print overall confusion matrix and classification report\n",
        "overall_conf_matrix = np.sum(conf_matrices, axis=0)\n",
        "print(\"Overall Confusion Matrix:\\n\", overall_conf_matrix)\n",
        "overall_class_report = classification_report(y_true_classes, y_pred_classes, target_names=['negative', 'neutral', 'positive'])\n",
        "print(\"Overall Classification Report:\\n\", overall_class_report)\n",
        "\n",
        "# Plot the overall confusion matrix\n",
        "plt.figure(figsize=(8, 6))\n",
        "sns.heatmap(overall_conf_matrix, annot=True, fmt='d', cmap='Blues', xticklabels=['negative', 'neutral', 'positive'], yticklabels=['negative', 'neutral', 'positive'])\n",
        "plt.xlabel('Predicted Label')\n",
        "plt.ylabel('True Label')\n",
        "plt.title('Overall Confusion Matrix')\n",
        "plt.show()\n",
        "\n",
        "def predict_sentiment(text):\n",
        "    # Clean the text\n",
        "    text = clean_train_data(text)\n",
        "\n",
        "    # Tokenize the text\n",
        "    sequences = token.texts_to_sequences([text])\n",
        "    sequences = pad_sequences(sequences, maxlen=X.shape[1])\n",
        "\n",
        "    # Predict the sentiment\n",
        "    prediction = model.predict(sequences)\n",
        "\n",
        "    # Convert the prediction into a readable form\n",
        "    sentiment = np.argmax(prediction)\n",
        "    sentiment_dict = {0: 'negative', 1: 'neutral', 2: 'positive'}\n",
        "\n",
        "    print('The sentiment of the text is', sentiment_dict[sentiment])\n",
        "\n",
        "\n",
        "# Now use this function to predict the sentiment of a new text\n",
        "positive_text = \"I have to admit that my last flight with Qantas airline is fabulous 😃!\"\n",
        "neutral_text = \"How was your tirp in Sydney?\"\n",
        "negative_text = \"I should have known that the plane would be late again and again and again!!!\"\n",
        "print(positive_text)\n",
        "predict_sentiment(positive_text)\n",
        "print(neutral_text)\n",
        "predict_sentiment(neutral_text)\n",
        "print(negative_text)\n",
        "predict_sentiment(negative_text)"
      ]
    },
    {
      "cell_type": "markdown",
      "metadata": {
        "id": "Q5H0ELZ-T-gv"
      },
      "source": [
        "#### Model Performance\n",
        "\n",
        "This model uses the same word2vec technique with an add-on of L2 regularization. And from the result, it is obvious that the accuracy shows a decrease after utilizing L2, the reason is the same as when we applied L2 on the binary dataset. Here we obtained a more generalized model with loss of precision for this dataset."
      ]
    },
    {
      "cell_type": "markdown",
      "metadata": {
        "id": "snFeG3pV5M6u"
      },
      "source": [
        "#### CNN BiLSTM"
      ]
    },
    {
      "cell_type": "code",
      "execution_count": null,
      "metadata": {
        "ExecuteTime": {
          "end_time": "2023-08-02T13:10:16.933093700Z",
          "start_time": "2023-08-02T13:08:37.186602600Z"
        },
        "id": "2m3SZb5t5M6u",
        "outputId": "0def2244-5b73-4195-fa82-dde9f73ae92e"
      },
      "outputs": [
        {
          "name": "stdout",
          "output_type": "stream",
          "text": [
            "Epoch 1/50\n",
            "684/684 - 36s - loss: 0.7057 - accuracy: 0.6949 - val_loss: 0.5434 - val_accuracy: 0.7892 - 36s/epoch - 53ms/step\n",
            "Epoch 2/50\n"
          ]
        },
        {
          "name": "stderr",
          "output_type": "stream",
          "text": [
            "/home/benjamin/.local/lib/python3.10/site-packages/keras/src/engine/training.py:3000: UserWarning: You are saving your model as an HDF5 file via `model.save()`. This file format is considered legacy. We recommend using instead the native Keras format, e.g. `model.save('my_model.keras')`.\n",
            "  saving_api.save_model(\n"
          ]
        },
        {
          "name": "stdout",
          "output_type": "stream",
          "text": [
            "684/684 - 31s - loss: 0.4292 - accuracy: 0.8340 - val_loss: 0.4216 - val_accuracy: 0.8342 - 31s/epoch - 45ms/step\n",
            "Epoch 3/50\n",
            "684/684 - 31s - loss: 0.3274 - accuracy: 0.8770 - val_loss: 0.3668 - val_accuracy: 0.8649 - 31s/epoch - 45ms/step\n",
            "Epoch 4/50\n",
            "684/684 - 30s - loss: 0.2663 - accuracy: 0.9042 - val_loss: 0.3353 - val_accuracy: 0.8894 - 30s/epoch - 44ms/step\n",
            "Epoch 5/50\n",
            "684/684 - 30s - loss: 0.2149 - accuracy: 0.9248 - val_loss: 0.3217 - val_accuracy: 0.8943 - 30s/epoch - 44ms/step\n",
            "Epoch 6/50\n",
            "684/684 - 30s - loss: 0.1782 - accuracy: 0.9392 - val_loss: 0.3115 - val_accuracy: 0.9009 - 30s/epoch - 43ms/step\n",
            "Epoch 7/50\n",
            "684/684 - 30s - loss: 0.1575 - accuracy: 0.9466 - val_loss: 0.3000 - val_accuracy: 0.9119 - 30s/epoch - 45ms/step\n",
            "Epoch 8/50\n",
            "684/684 - 31s - loss: 0.1281 - accuracy: 0.9578 - val_loss: 0.2978 - val_accuracy: 0.9261 - 31s/epoch - 45ms/step\n",
            "Epoch 9/50\n",
            "684/684 - 31s - loss: 0.1136 - accuracy: 0.9616 - val_loss: 0.3514 - val_accuracy: 0.9035 - 31s/epoch - 46ms/step\n",
            "Epoch 10/50\n",
            "684/684 - 30s - loss: 0.0933 - accuracy: 0.9695 - val_loss: 0.3174 - val_accuracy: 0.9252 - 30s/epoch - 44ms/step\n",
            "Epoch 11/50\n",
            "684/684 - 31s - loss: 0.0844 - accuracy: 0.9718 - val_loss: 0.3208 - val_accuracy: 0.9287 - 31s/epoch - 45ms/step\n",
            "171/171 - 2s - loss: 0.3208 - accuracy: 0.9287 - 2s/epoch - 13ms/step\n",
            "171/171 [==============================] - 3s 12ms/step\n",
            "Average score: 0.32080918550491333\n",
            "Average accuracy: 0.9286890029907227\n",
            "Confusion Matrix (Fold 1):\n",
            "[[1556  157   78]\n",
            " [  63 1709   54]\n",
            " [  14   24 1814]]\n",
            "\n",
            "Classification Report (Fold 1):\n",
            "              precision    recall  f1-score   support\n",
            "\n",
            "    negative       0.95      0.87      0.91      1791\n",
            "     neutral       0.90      0.94      0.92      1826\n",
            "    positive       0.93      0.98      0.96      1852\n",
            "\n",
            "    accuracy                           0.93      5469\n",
            "   macro avg       0.93      0.93      0.93      5469\n",
            "weighted avg       0.93      0.93      0.93      5469\n",
            "\n",
            "\n",
            "Overall Confusion Matrix:\n",
            " [[1556  157   78]\n",
            " [  63 1709   54]\n",
            " [  14   24 1814]]\n",
            "Overall Classification Report:\n",
            "               precision    recall  f1-score   support\n",
            "\n",
            "    negative       0.95      0.87      0.91      1791\n",
            "     neutral       0.90      0.94      0.92      1826\n",
            "    positive       0.93      0.98      0.96      1852\n",
            "\n",
            "    accuracy                           0.93      5469\n",
            "   macro avg       0.93      0.93      0.93      5469\n",
            "weighted avg       0.93      0.93      0.93      5469\n",
            "\n"
          ]
        },
        {
          "data": {
            "image/png": "[encoded data removed]",
            "text/plain": [
              "<Figure size 800x600 with 2 Axes>"
            ]
          },
          "metadata": {},
          "output_type": "display_data"
        },
        {
          "name": "stdout",
          "output_type": "stream",
          "text": [
            "I have to admit that my last flight with Qantas airline is fabulous 😃!\n",
            "1/1 [==============================] - 0s 34ms/step\n",
            "The sentiment of the text is positive\n",
            "How was your tirp in Sydney?\n",
            "1/1 [==============================] - 0s 32ms/step\n",
            "The sentiment of the text is neutral\n",
            "I should have known that the plane would be late again and again and again!!!\n",
            "1/1 [==============================] - 0s 36ms/step\n",
            "The sentiment of the text is negative\n"
          ]
        }
      ],
      "source": [
        "max_features = 2000\n",
        "token = Tokenizer(num_words=max_features, split = ' ')\n",
        "token.fit_on_texts(data['text'].values)\n",
        "\n",
        "X = token.texts_to_sequences(data['text'].values)\n",
        "X = pad_sequences(X)\n",
        "Y = pd.get_dummies(data['airline_sentiment']).values\n",
        "\n",
        "# Train Word2Vec embeddings\n",
        "word2vec_embedding_dim = 128 # Set the desired embedding dimension\n",
        "word2vec_model = Word2Vec(sentences=[text.split() for text in data['text'].values],\n",
        "                          vector_size=word2vec_embedding_dim, window=3, min_count=1, workers=4)\n",
        "# Create embedding matrix\n",
        "embedding_matrix = np.zeros((max_features, word2vec_embedding_dim))\n",
        "for word, i in token.word_index.items():\n",
        "    if word in word2vec_model.wv and i < max_features:\n",
        "        embedding_matrix[i] = word2vec_model.wv[word]\n",
        "\n",
        "# Model architecture\n",
        "embed_dim = word2vec_embedding_dim # Use Word2Vec embedding dimension\n",
        "lstm_out = 196\n",
        "batch_size = 32\n",
        "\n",
        "\n",
        "# Store the scores\n",
        "scores = []\n",
        "accuracies = []\n",
        "conf_matrices = []  # Store confusion matrices for each fold\n",
        "\n",
        "X_train, X_test, y_train, y_test = train_test_split(X,Y, test_size=0.2, random_state=42)\n",
        "\n",
        "model = Sequential()\n",
        "model.add(Embedding(max_features, embed_dim, weights=[embedding_matrix], input_length=X.shape[1], trainable=True))\n",
        "\n",
        "model.add(Conv1D(filters=32, kernel_size=3, padding='same', activation='relu'))\n",
        "model.add(MaxPooling1D(pool_size=2))\n",
        "\n",
        "model.add(Bidirectional(LSTM(lstm_out, dropout=0.2, recurrent_dropout=0.2)))\n",
        "model.add(Dense(3, activation='softmax'))\n",
        "model.compile(loss='categorical_crossentropy', optimizer='adam', metrics=['accuracy'])\n",
        "\n",
        "# Early stopping callback\n",
        "early_stopping = EarlyStopping(monitor='val_loss', patience=3)\n",
        "\n",
        "# Model checkpoint callback\n",
        "model_checkpoint = ModelCheckpoint('best_model.h5', monitor='val_loss', save_best_only=True)\n",
        "\n",
        "# Train the model\n",
        "history = model.fit(X_train, y_train, epochs=50, batch_size=batch_size, verbose=2,\n",
        "                    validation_data=(X_test, y_test),\n",
        "                    callbacks=[early_stopping, model_checkpoint])\n",
        "\n",
        "# Evaluate the model\n",
        "score, acc = model.evaluate(X_test, y_test, batch_size=batch_size, verbose=2)\n",
        "\n",
        "# Store the score and accuracy\n",
        "scores.append(score)\n",
        "accuracies.append(acc)\n",
        "\n",
        "# Predict the test data and get the confusion matrix\n",
        "y_pred = model.predict(X_test)\n",
        "y_pred_classes = np.argmax(y_pred, axis=1)\n",
        "y_true_classes = np.argmax(y_test, axis=1)\n",
        "conf_matrix = confusion_matrix(y_true_classes, y_pred_classes)\n",
        "conf_matrices.append(conf_matrix)\n",
        "\n",
        "# Print the average score and accuracy\n",
        "print('Average score:', np.mean(scores))\n",
        "print('Average accuracy:', np.mean(accuracies))\n",
        "\n",
        "# Print confusion matrices and classification reports for each fold\n",
        "for i, conf_matrix in enumerate(conf_matrices):\n",
        "    print(f\"Confusion Matrix (Fold {i+1}):\\n{conf_matrix}\\n\")\n",
        "    class_report = classification_report(y_true_classes, y_pred_classes, target_names=['negative', 'neutral', 'positive'])\n",
        "    print(f\"Classification Report (Fold {i+1}):\\n{class_report}\\n\")\n",
        "\n",
        "# Calculate and print overall confusion matrix and classification report\n",
        "overall_conf_matrix = np.sum(conf_matrices, axis=0)\n",
        "print(\"Overall Confusion Matrix:\\n\", overall_conf_matrix)\n",
        "overall_class_report = classification_report(y_true_classes, y_pred_classes, target_names=['negative', 'neutral', 'positive'])\n",
        "print(\"Overall Classification Report:\\n\", overall_class_report)\n",
        "\n",
        "# Plot the overall confusion matrix\n",
        "plt.figure(figsize=(8, 6))\n",
        "sns.heatmap(overall_conf_matrix, annot=True, fmt='d', cmap='Blues', xticklabels=['negative', 'neutral', 'positive'], yticklabels=['negative', 'neutral', 'positive'])\n",
        "plt.xlabel('Predicted Label')\n",
        "plt.ylabel('True Label')\n",
        "plt.title('Overall Confusion Matrix')\n",
        "plt.show()\n",
        "\n",
        "def predict_sentiment(text):\n",
        "    # Clean the text\n",
        "    text = clean_train_data(text)\n",
        "\n",
        "    # Tokenize the text\n",
        "    sequences = token.texts_to_sequences([text])\n",
        "    sequences = pad_sequences(sequences, maxlen=X.shape[1])\n",
        "\n",
        "    # Predict the sentiment\n",
        "    prediction = model.predict(sequences)\n",
        "\n",
        "    # Convert the prediction into a readable form\n",
        "    sentiment = np.argmax(prediction)\n",
        "    sentiment_dict = {0: 'negative', 1: 'neutral', 2: 'positive'}\n",
        "\n",
        "    print('The sentiment of the text is', sentiment_dict[sentiment])\n",
        "\n",
        "\n",
        "# Now use this function to predict the sentiment of a new text\n",
        "positive_text = \"I have to admit that my last flight with Qantas airline is fabulous 😃!\"\n",
        "neutral_text = \"How was your tirp in Sydney?\"\n",
        "negative_text = \"I should have known that the plane would be late again and again and again!!!\"\n",
        "print(positive_text)\n",
        "predict_sentiment(positive_text)\n",
        "print(neutral_text)\n",
        "predict_sentiment(neutral_text)\n",
        "print(negative_text)\n",
        "predict_sentiment(negative_text)"
      ]
    },
    {
      "cell_type": "markdown",
      "metadata": {
        "id": "e90DUvb7mMNA"
      },
      "source": [
        "#### Model performace\n",
        "\n",
        "Based on the results shown above, it could be inferred that CNN bi-lstm model's efficiency is much better than only bi-lstm, though the average accuracy(92%) shows little difference, this model performs equally well on neutral labels' data.\n",
        "\n",
        "1. After vector transformation, cnn is better at handling locally correlated data than bi, which requires global dependencies.\n",
        "2. all computations in cnn are parallel, each convolutional kernel can be computed on all inputs at the same time.\n",
        "\n",
        "The computation of each time step in bi depends on the hidden state of the previous time step, so it must be computed in a sequence of time steps.\n",
        "\n"
      ]
    },
    {
      "cell_type": "markdown",
      "metadata": {
        "id": "PzuVTZIvnxeU"
      },
      "source": [
        "### Conclusion"
      ]
    },
    {
      "cell_type": "markdown",
      "metadata": {
        "id": "Rj1X2GkSZ5Xi"
      },
      "source": [
        "This comparative analysis of ML and DL methods reveals compelling insights for sentiment analysis on both binary and tri-class datasets.\n",
        "\n",
        "1. CNN Outperforms: The results consistently demonstrate that CNN outperforms both SVM and BiLSTM in ternary sentiment data. CNN's superior capability in capturing essential text features leads to accurate sentiment predictions. Although the performance improvement in binary sentiment data is not substantial, CNN's efficiency in training makes it the preferred model, retaining its position as the better choice.\n",
        "\n",
        "2. Optimal Use of BiLSTM and Cross-Validation: When dealing with small sample sizes of data, incorporating cross-validation proves beneficial for BiLSTM, especially in binary data scenarios. However, for large datasets, cross-validation may adversely impact accuracy due to data duplication during training, leading to increased computational demands and longer processing times.\n",
        "\n",
        "3. Overfitting Mitigation with L2 Regularization: The usage of L2 regularization in BiLSTM effectively tackles overfitting concerns. Additionally, early stopping proves to be a valuable technique in minimizing overfitting to a certain extent.\n",
        "\n",
        "4. BiLSTM with CNN: The BiLSTM combined with CNN emerges as the most promising training model. This architecture not only delivers impressive speed but also maximizes the extraction of crucial data features. The synergistic combination of BiLSTM and CNN contributes to overall superior performance in sentiment analysis tasks."
      ]
    }
  ],
  "metadata": {
    "colab": {
      "gpuType": "T4",
      "provenance": [],
      "toc_visible": true
    },
    "kernelspec": {
      "display_name": "Python 3 (ipykernel)",
      "language": "python",
      "name": "python3"
    },
    "language_info": {
      "codemirror_mode": {
        "name": "ipython",
        "version": 3
      },
      "file_extension": ".py",
      "mimetype": "text/x-python",
      "name": "python",
      "nbconvert_exporter": "python",
      "pygments_lexer": "ipython3",
      "version": "3.10.6"
    }
  },
  "nbformat": 4,
  "nbformat_minor": 0
}