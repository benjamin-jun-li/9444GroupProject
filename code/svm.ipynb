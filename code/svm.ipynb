{
 "cells": [
  {
   "cell_type": "code",
   "execution_count": 2,
   "metadata": {
    "collapsed": true,
    "ExecuteTime": {
     "end_time": "2023-07-20T20:39:48.341172300Z",
     "start_time": "2023-07-20T20:38:59.769650100Z"
    }
   },
   "outputs": [
    {
     "name": "stdout",
     "output_type": "stream",
     "text": [
      "Accuracy:  0.8058\n"
     ]
    },
    {
     "name": "stderr",
     "output_type": "stream",
     "text": [
      "D:\\anaconda3\\lib\\site-packages\\sklearn\\svm\\_base.py:1244: ConvergenceWarning: Liblinear failed to converge, increase the number of iterations.\n",
      "  warnings.warn(\n"
     ]
    }
   ],
   "source": [
    "from dataProcessing import *\n",
    "from sklearn.svm import LinearSVC\n",
    "from sklearn.metrics import accuracy_score\n",
    "\n",
    "#data processing\n",
    "train_texts, train_labels = load_data('../aclImdb_data/train')\n",
    "test_texts, test_labels = load_data('../aclImdb_data/test')\n",
    "\n",
    "train_texts = preprocess_text(train_texts)\n",
    "test_texts = preprocess_text(test_texts)\n",
    "\n",
    "w2v_model = w2v_train(train_texts)\n",
    "\n",
    "train_vecs = [text_to_vec(text, w2v_model) for text in train_texts]\n",
    "test_vecs = [text_to_vec(text, w2v_model) for text in test_texts]\n",
    "\n",
    "\n",
    "\n",
    "# Initialize the LinearSVC model\n",
    "svm_model = LinearSVC()\n",
    "\n",
    "# Train the model\n",
    "svm_model.fit(train_vecs, train_labels)\n",
    "\n",
    "# Predict the labels of the test set\n",
    "predicted_labels = svm_model.predict(test_vecs)\n",
    "\n",
    "# Print the accuracy score\n",
    "print(\"Accuracy: \", accuracy_score(test_labels, predicted_labels))"
   ]
  }
 ],
 "metadata": {
  "kernelspec": {
   "display_name": "Python 3",
   "language": "python",
   "name": "python3"
  },
  "language_info": {
   "codemirror_mode": {
    "name": "ipython",
    "version": 2
   },
   "file_extension": ".py",
   "mimetype": "text/x-python",
   "name": "python",
   "nbconvert_exporter": "python",
   "pygments_lexer": "ipython2",
   "version": "2.7.6"
  }
 },
 "nbformat": 4,
 "nbformat_minor": 0
}
