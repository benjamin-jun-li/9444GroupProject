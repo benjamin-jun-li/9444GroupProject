{
 "cells": [
  {
   "cell_type": "code",
   "execution_count": 2,
   "metadata": {
    "collapsed": true,
    "ExecuteTime": {
     "end_time": "2023-07-20T20:46:34.175472800Z",
     "start_time": "2023-07-20T20:45:47.130304100Z"
    }
   },
   "outputs": [
    {
     "name": "stdout",
     "output_type": "stream",
     "text": [
      "Training accuracy: 1.00\n",
      "Testing accuracy: 0.66\n"
     ]
    }
   ],
   "source": [
    "from dataProcessing import *\n",
    "from sklearn.tree import DecisionTreeClassifier\n",
    "from sklearn.metrics import accuracy_score\n",
    "\n",
    "#data processing\n",
    "train_texts, train_labels = load_data('../aclImdb_data/train')\n",
    "test_texts, test_labels = load_data('../aclImdb_data/test')\n",
    "\n",
    "train_texts = preprocess_text(train_texts)\n",
    "test_texts = preprocess_text(test_texts)\n",
    "\n",
    "w2v_model = w2v_train(train_texts)\n",
    "\n",
    "# Assuming that w2v_model is your trained Word2Vec model\n",
    "def get_document_vectors(w2v_model, texts):\n",
    "    document_vectors = []\n",
    "    for text in texts:\n",
    "        words = text.split()\n",
    "        word_vectors = [w2v_model.wv[word] for word in words if word in w2v_model.wv]\n",
    "        if word_vectors:\n",
    "            document_vectors.append(np.mean(word_vectors, axis=0))\n",
    "        else:\n",
    "            # If the text does not contain any word in the Word2Vec model vocabulary,\n",
    "            # assign a vector of zeros\n",
    "            document_vectors.append(np.zeros(w2v_model.vector_size))\n",
    "    return np.array(document_vectors)\n",
    "\n",
    "train_vecs = get_document_vectors(w2v_model, train_texts)\n",
    "test_vecs = get_document_vectors(w2v_model, test_texts)\n",
    "\n",
    "# Initialize the DecisionTreeClassifier model\n",
    "tree_model = DecisionTreeClassifier(random_state=42)\n",
    "\n",
    "# Fit the model\n",
    "tree_model.fit(train_vecs, train_labels)\n",
    "\n",
    "# Make predictions\n",
    "train_preds = tree_model.predict(train_vecs)\n",
    "test_preds = tree_model.predict(test_vecs)\n",
    "\n",
    "# Compute the accuracy\n",
    "train_acc = accuracy_score(train_labels, train_preds)\n",
    "test_acc = accuracy_score(test_labels, test_preds)\n",
    "\n",
    "print(f'Training accuracy: {train_acc:.2f}')\n",
    "print(f'Testing accuracy: {test_acc:.2f}')\n",
    "\n",
    "#Fuck the result, overfitting🖕"
   ]
  }
 ],
 "metadata": {
  "kernelspec": {
   "display_name": "Python 3",
   "language": "python",
   "name": "python3"
  },
  "language_info": {
   "codemirror_mode": {
    "name": "ipython",
    "version": 2
   },
   "file_extension": ".py",
   "mimetype": "text/x-python",
   "name": "python",
   "nbconvert_exporter": "python",
   "pygments_lexer": "ipython2",
   "version": "2.7.6"
  }
 },
 "nbformat": 4,
 "nbformat_minor": 0
}
